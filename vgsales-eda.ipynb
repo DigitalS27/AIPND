{
 "cells": [
  {
   "cell_type": "code",
   "execution_count": 1,
   "id": "6bca0218",
   "metadata": {
    "execution": {
     "iopub.execute_input": "2022-04-24T12:15:29.596930Z",
     "iopub.status.busy": "2022-04-24T12:15:29.595823Z",
     "iopub.status.idle": "2022-04-24T12:15:30.659439Z",
     "shell.execute_reply": "2022-04-24T12:15:30.658694Z"
    },
    "papermill": {
     "duration": 1.119346,
     "end_time": "2022-04-24T12:15:30.661970",
     "exception": false,
     "start_time": "2022-04-24T12:15:29.542624",
     "status": "completed"
    },
    "tags": []
   },
   "outputs": [],
   "source": [
    "import pandas as pd\n",
    "import numpy as np\n",
    "import seaborn as sns\n",
    "import matplotlib.pyplot as plot\n",
    "%matplotlib inline\n"
   ]
  },
  {
   "cell_type": "code",
   "execution_count": 2,
   "id": "e399a151",
   "metadata": {
    "execution": {
     "iopub.execute_input": "2022-04-24T12:15:30.746872Z",
     "iopub.status.busy": "2022-04-24T12:15:30.746302Z",
     "iopub.status.idle": "2022-04-24T12:15:30.841457Z",
     "shell.execute_reply": "2022-04-24T12:15:30.840794Z"
    },
    "papermill": {
     "duration": 0.14053,
     "end_time": "2022-04-24T12:15:30.843694",
     "exception": false,
     "start_time": "2022-04-24T12:15:30.703164",
     "status": "completed"
    },
    "tags": []
   },
   "outputs": [],
   "source": [
    "df = pd.read_csv('../input/videogamesales/vgsales.csv')"
   ]
  },
  {
   "cell_type": "code",
   "execution_count": 3,
   "id": "e105aa54",
   "metadata": {
    "execution": {
     "iopub.execute_input": "2022-04-24T12:15:30.928577Z",
     "iopub.status.busy": "2022-04-24T12:15:30.928276Z",
     "iopub.status.idle": "2022-04-24T12:15:30.953654Z",
     "shell.execute_reply": "2022-04-24T12:15:30.952875Z"
    },
    "papermill": {
     "duration": 0.069698,
     "end_time": "2022-04-24T12:15:30.955621",
     "exception": false,
     "start_time": "2022-04-24T12:15:30.885923",
     "status": "completed"
    },
    "tags": []
   },
   "outputs": [
    {
     "data": {
      "text/html": [
       "<div>\n",
       "<style scoped>\n",
       "    .dataframe tbody tr th:only-of-type {\n",
       "        vertical-align: middle;\n",
       "    }\n",
       "\n",
       "    .dataframe tbody tr th {\n",
       "        vertical-align: top;\n",
       "    }\n",
       "\n",
       "    .dataframe thead th {\n",
       "        text-align: right;\n",
       "    }\n",
       "</style>\n",
       "<table border=\"1\" class=\"dataframe\">\n",
       "  <thead>\n",
       "    <tr style=\"text-align: right;\">\n",
       "      <th></th>\n",
       "      <th>Rank</th>\n",
       "      <th>Name</th>\n",
       "      <th>Platform</th>\n",
       "      <th>Year</th>\n",
       "      <th>Genre</th>\n",
       "      <th>Publisher</th>\n",
       "      <th>NA_Sales</th>\n",
       "      <th>EU_Sales</th>\n",
       "      <th>JP_Sales</th>\n",
       "      <th>Other_Sales</th>\n",
       "      <th>Global_Sales</th>\n",
       "    </tr>\n",
       "  </thead>\n",
       "  <tbody>\n",
       "    <tr>\n",
       "      <th>0</th>\n",
       "      <td>1</td>\n",
       "      <td>Wii Sports</td>\n",
       "      <td>Wii</td>\n",
       "      <td>2006.0</td>\n",
       "      <td>Sports</td>\n",
       "      <td>Nintendo</td>\n",
       "      <td>41.49</td>\n",
       "      <td>29.02</td>\n",
       "      <td>3.77</td>\n",
       "      <td>8.46</td>\n",
       "      <td>82.74</td>\n",
       "    </tr>\n",
       "    <tr>\n",
       "      <th>1</th>\n",
       "      <td>2</td>\n",
       "      <td>Super Mario Bros.</td>\n",
       "      <td>NES</td>\n",
       "      <td>1985.0</td>\n",
       "      <td>Platform</td>\n",
       "      <td>Nintendo</td>\n",
       "      <td>29.08</td>\n",
       "      <td>3.58</td>\n",
       "      <td>6.81</td>\n",
       "      <td>0.77</td>\n",
       "      <td>40.24</td>\n",
       "    </tr>\n",
       "    <tr>\n",
       "      <th>2</th>\n",
       "      <td>3</td>\n",
       "      <td>Mario Kart Wii</td>\n",
       "      <td>Wii</td>\n",
       "      <td>2008.0</td>\n",
       "      <td>Racing</td>\n",
       "      <td>Nintendo</td>\n",
       "      <td>15.85</td>\n",
       "      <td>12.88</td>\n",
       "      <td>3.79</td>\n",
       "      <td>3.31</td>\n",
       "      <td>35.82</td>\n",
       "    </tr>\n",
       "    <tr>\n",
       "      <th>3</th>\n",
       "      <td>4</td>\n",
       "      <td>Wii Sports Resort</td>\n",
       "      <td>Wii</td>\n",
       "      <td>2009.0</td>\n",
       "      <td>Sports</td>\n",
       "      <td>Nintendo</td>\n",
       "      <td>15.75</td>\n",
       "      <td>11.01</td>\n",
       "      <td>3.28</td>\n",
       "      <td>2.96</td>\n",
       "      <td>33.00</td>\n",
       "    </tr>\n",
       "    <tr>\n",
       "      <th>4</th>\n",
       "      <td>5</td>\n",
       "      <td>Pokemon Red/Pokemon Blue</td>\n",
       "      <td>GB</td>\n",
       "      <td>1996.0</td>\n",
       "      <td>Role-Playing</td>\n",
       "      <td>Nintendo</td>\n",
       "      <td>11.27</td>\n",
       "      <td>8.89</td>\n",
       "      <td>10.22</td>\n",
       "      <td>1.00</td>\n",
       "      <td>31.37</td>\n",
       "    </tr>\n",
       "  </tbody>\n",
       "</table>\n",
       "</div>"
      ],
      "text/plain": [
       "   Rank                      Name Platform    Year         Genre Publisher  \\\n",
       "0     1                Wii Sports      Wii  2006.0        Sports  Nintendo   \n",
       "1     2         Super Mario Bros.      NES  1985.0      Platform  Nintendo   \n",
       "2     3            Mario Kart Wii      Wii  2008.0        Racing  Nintendo   \n",
       "3     4         Wii Sports Resort      Wii  2009.0        Sports  Nintendo   \n",
       "4     5  Pokemon Red/Pokemon Blue       GB  1996.0  Role-Playing  Nintendo   \n",
       "\n",
       "   NA_Sales  EU_Sales  JP_Sales  Other_Sales  Global_Sales  \n",
       "0     41.49     29.02      3.77         8.46         82.74  \n",
       "1     29.08      3.58      6.81         0.77         40.24  \n",
       "2     15.85     12.88      3.79         3.31         35.82  \n",
       "3     15.75     11.01      3.28         2.96         33.00  \n",
       "4     11.27      8.89     10.22         1.00         31.37  "
      ]
     },
     "execution_count": 3,
     "metadata": {},
     "output_type": "execute_result"
    }
   ],
   "source": [
    "df.head()"
   ]
  },
  {
   "cell_type": "code",
   "execution_count": 4,
   "id": "2bf2bbbc",
   "metadata": {
    "execution": {
     "iopub.execute_input": "2022-04-24T12:15:31.044981Z",
     "iopub.status.busy": "2022-04-24T12:15:31.044669Z",
     "iopub.status.idle": "2022-04-24T12:15:31.049686Z",
     "shell.execute_reply": "2022-04-24T12:15:31.048900Z"
    },
    "papermill": {
     "duration": 0.051701,
     "end_time": "2022-04-24T12:15:31.052002",
     "exception": false,
     "start_time": "2022-04-24T12:15:31.000301",
     "status": "completed"
    },
    "tags": []
   },
   "outputs": [
    {
     "name": "stdout",
     "output_type": "stream",
     "text": [
      "The number of rows in the dataset: 16598 and the number of columns in the dataset 11\n"
     ]
    }
   ],
   "source": [
    "rows = df.shape[0]\n",
    "columns = df.shape[1]\n",
    "\n",
    "print(f'The number of rows in the dataset: {rows} and the number of columns in the dataset {columns}')"
   ]
  },
  {
   "cell_type": "code",
   "execution_count": 5,
   "id": "030d3aad",
   "metadata": {
    "execution": {
     "iopub.execute_input": "2022-04-24T12:15:31.141603Z",
     "iopub.status.busy": "2022-04-24T12:15:31.141049Z",
     "iopub.status.idle": "2022-04-24T12:15:31.170688Z",
     "shell.execute_reply": "2022-04-24T12:15:31.169889Z"
    },
    "papermill": {
     "duration": 0.076824,
     "end_time": "2022-04-24T12:15:31.172899",
     "exception": false,
     "start_time": "2022-04-24T12:15:31.096075",
     "status": "completed"
    },
    "tags": []
   },
   "outputs": [
    {
     "name": "stdout",
     "output_type": "stream",
     "text": [
      "<class 'pandas.core.frame.DataFrame'>\n",
      "RangeIndex: 16598 entries, 0 to 16597\n",
      "Data columns (total 11 columns):\n",
      " #   Column        Non-Null Count  Dtype  \n",
      "---  ------        --------------  -----  \n",
      " 0   Rank          16598 non-null  int64  \n",
      " 1   Name          16598 non-null  object \n",
      " 2   Platform      16598 non-null  object \n",
      " 3   Year          16327 non-null  float64\n",
      " 4   Genre         16598 non-null  object \n",
      " 5   Publisher     16540 non-null  object \n",
      " 6   NA_Sales      16598 non-null  float64\n",
      " 7   EU_Sales      16598 non-null  float64\n",
      " 8   JP_Sales      16598 non-null  float64\n",
      " 9   Other_Sales   16598 non-null  float64\n",
      " 10  Global_Sales  16598 non-null  float64\n",
      "dtypes: float64(6), int64(1), object(4)\n",
      "memory usage: 1.4+ MB\n"
     ]
    }
   ],
   "source": [
    "df.info()"
   ]
  },
  {
   "cell_type": "code",
   "execution_count": 6,
   "id": "6d9dd2c5",
   "metadata": {
    "execution": {
     "iopub.execute_input": "2022-04-24T12:15:31.260484Z",
     "iopub.status.busy": "2022-04-24T12:15:31.259747Z",
     "iopub.status.idle": "2022-04-24T12:15:31.270155Z",
     "shell.execute_reply": "2022-04-24T12:15:31.269203Z"
    },
    "papermill": {
     "duration": 0.056709,
     "end_time": "2022-04-24T12:15:31.272278",
     "exception": false,
     "start_time": "2022-04-24T12:15:31.215569",
     "status": "completed"
    },
    "tags": []
   },
   "outputs": [
    {
     "data": {
      "text/plain": [
       "DS      2163\n",
       "PS2     2161\n",
       "PS3     1329\n",
       "Wii     1325\n",
       "X360    1265\n",
       "PSP     1213\n",
       "PS      1196\n",
       "PC       960\n",
       "XB       824\n",
       "GBA      822\n",
       "GC       556\n",
       "3DS      509\n",
       "PSV      413\n",
       "PS4      336\n",
       "N64      319\n",
       "SNES     239\n",
       "XOne     213\n",
       "SAT      173\n",
       "WiiU     143\n",
       "2600     133\n",
       "NES       98\n",
       "GB        98\n",
       "DC        52\n",
       "GEN       27\n",
       "NG        12\n",
       "SCD        6\n",
       "WS         6\n",
       "3DO        3\n",
       "TG16       2\n",
       "GG         1\n",
       "PCFX       1\n",
       "Name: Platform, dtype: int64"
      ]
     },
     "execution_count": 6,
     "metadata": {},
     "output_type": "execute_result"
    }
   ],
   "source": [
    "#take a look at the various different gaming platforms contained in the dataset\n",
    "df['Platform'].value_counts()"
   ]
  },
  {
   "cell_type": "code",
   "execution_count": 7,
   "id": "e7352b37",
   "metadata": {
    "execution": {
     "iopub.execute_input": "2022-04-24T12:15:31.360620Z",
     "iopub.status.busy": "2022-04-24T12:15:31.360355Z",
     "iopub.status.idle": "2022-04-24T12:15:31.366659Z",
     "shell.execute_reply": "2022-04-24T12:15:31.366030Z"
    },
    "papermill": {
     "duration": 0.053459,
     "end_time": "2022-04-24T12:15:31.368971",
     "exception": false,
     "start_time": "2022-04-24T12:15:31.315512",
     "status": "completed"
    },
    "tags": []
   },
   "outputs": [
    {
     "data": {
      "text/plain": [
       "578"
      ]
     },
     "execution_count": 7,
     "metadata": {},
     "output_type": "execute_result"
    }
   ],
   "source": [
    "#the number of publishers contained in the dataset\n",
    "df['Publisher'].nunique()"
   ]
  },
  {
   "cell_type": "code",
   "execution_count": 8,
   "id": "c5121e01",
   "metadata": {
    "execution": {
     "iopub.execute_input": "2022-04-24T12:15:31.457633Z",
     "iopub.status.busy": "2022-04-24T12:15:31.456907Z",
     "iopub.status.idle": "2022-04-24T12:15:31.463135Z",
     "shell.execute_reply": "2022-04-24T12:15:31.462489Z"
    },
    "papermill": {
     "duration": 0.052658,
     "end_time": "2022-04-24T12:15:31.465010",
     "exception": false,
     "start_time": "2022-04-24T12:15:31.412352",
     "status": "completed"
    },
    "tags": []
   },
   "outputs": [],
   "source": [
    "\n",
    "#change column names to ensure there is no confusion\n",
    "df = df.rename(columns={'NA_Sales': 'North_America_sales', 'EU_Sales': 'Europe_Sales', 'JP_Sales': 'Japan_sales'})"
   ]
  },
  {
   "cell_type": "code",
   "execution_count": 9,
   "id": "98a764a9",
   "metadata": {
    "execution": {
     "iopub.execute_input": "2022-04-24T12:15:31.554114Z",
     "iopub.status.busy": "2022-04-24T12:15:31.553496Z",
     "iopub.status.idle": "2022-04-24T12:15:31.570018Z",
     "shell.execute_reply": "2022-04-24T12:15:31.569391Z"
    },
    "papermill": {
     "duration": 0.063521,
     "end_time": "2022-04-24T12:15:31.571728",
     "exception": false,
     "start_time": "2022-04-24T12:15:31.508207",
     "status": "completed"
    },
    "tags": []
   },
   "outputs": [
    {
     "data": {
      "text/html": [
       "<div>\n",
       "<style scoped>\n",
       "    .dataframe tbody tr th:only-of-type {\n",
       "        vertical-align: middle;\n",
       "    }\n",
       "\n",
       "    .dataframe tbody tr th {\n",
       "        vertical-align: top;\n",
       "    }\n",
       "\n",
       "    .dataframe thead th {\n",
       "        text-align: right;\n",
       "    }\n",
       "</style>\n",
       "<table border=\"1\" class=\"dataframe\">\n",
       "  <thead>\n",
       "    <tr style=\"text-align: right;\">\n",
       "      <th></th>\n",
       "      <th>Rank</th>\n",
       "      <th>Name</th>\n",
       "      <th>Platform</th>\n",
       "      <th>Year</th>\n",
       "      <th>Genre</th>\n",
       "      <th>Publisher</th>\n",
       "      <th>North_America_sales</th>\n",
       "      <th>Europe_Sales</th>\n",
       "      <th>Japan_sales</th>\n",
       "      <th>Other_Sales</th>\n",
       "      <th>Global_Sales</th>\n",
       "    </tr>\n",
       "  </thead>\n",
       "  <tbody>\n",
       "    <tr>\n",
       "      <th>0</th>\n",
       "      <td>1</td>\n",
       "      <td>Wii Sports</td>\n",
       "      <td>Wii</td>\n",
       "      <td>2006.0</td>\n",
       "      <td>Sports</td>\n",
       "      <td>Nintendo</td>\n",
       "      <td>41.49</td>\n",
       "      <td>29.02</td>\n",
       "      <td>3.77</td>\n",
       "      <td>8.46</td>\n",
       "      <td>82.74</td>\n",
       "    </tr>\n",
       "    <tr>\n",
       "      <th>1</th>\n",
       "      <td>2</td>\n",
       "      <td>Super Mario Bros.</td>\n",
       "      <td>NES</td>\n",
       "      <td>1985.0</td>\n",
       "      <td>Platform</td>\n",
       "      <td>Nintendo</td>\n",
       "      <td>29.08</td>\n",
       "      <td>3.58</td>\n",
       "      <td>6.81</td>\n",
       "      <td>0.77</td>\n",
       "      <td>40.24</td>\n",
       "    </tr>\n",
       "    <tr>\n",
       "      <th>2</th>\n",
       "      <td>3</td>\n",
       "      <td>Mario Kart Wii</td>\n",
       "      <td>Wii</td>\n",
       "      <td>2008.0</td>\n",
       "      <td>Racing</td>\n",
       "      <td>Nintendo</td>\n",
       "      <td>15.85</td>\n",
       "      <td>12.88</td>\n",
       "      <td>3.79</td>\n",
       "      <td>3.31</td>\n",
       "      <td>35.82</td>\n",
       "    </tr>\n",
       "    <tr>\n",
       "      <th>3</th>\n",
       "      <td>4</td>\n",
       "      <td>Wii Sports Resort</td>\n",
       "      <td>Wii</td>\n",
       "      <td>2009.0</td>\n",
       "      <td>Sports</td>\n",
       "      <td>Nintendo</td>\n",
       "      <td>15.75</td>\n",
       "      <td>11.01</td>\n",
       "      <td>3.28</td>\n",
       "      <td>2.96</td>\n",
       "      <td>33.00</td>\n",
       "    </tr>\n",
       "    <tr>\n",
       "      <th>4</th>\n",
       "      <td>5</td>\n",
       "      <td>Pokemon Red/Pokemon Blue</td>\n",
       "      <td>GB</td>\n",
       "      <td>1996.0</td>\n",
       "      <td>Role-Playing</td>\n",
       "      <td>Nintendo</td>\n",
       "      <td>11.27</td>\n",
       "      <td>8.89</td>\n",
       "      <td>10.22</td>\n",
       "      <td>1.00</td>\n",
       "      <td>31.37</td>\n",
       "    </tr>\n",
       "  </tbody>\n",
       "</table>\n",
       "</div>"
      ],
      "text/plain": [
       "   Rank                      Name Platform    Year         Genre Publisher  \\\n",
       "0     1                Wii Sports      Wii  2006.0        Sports  Nintendo   \n",
       "1     2         Super Mario Bros.      NES  1985.0      Platform  Nintendo   \n",
       "2     3            Mario Kart Wii      Wii  2008.0        Racing  Nintendo   \n",
       "3     4         Wii Sports Resort      Wii  2009.0        Sports  Nintendo   \n",
       "4     5  Pokemon Red/Pokemon Blue       GB  1996.0  Role-Playing  Nintendo   \n",
       "\n",
       "   North_America_sales  Europe_Sales  Japan_sales  Other_Sales  Global_Sales  \n",
       "0                41.49         29.02         3.77         8.46         82.74  \n",
       "1                29.08          3.58         6.81         0.77         40.24  \n",
       "2                15.85         12.88         3.79         3.31         35.82  \n",
       "3                15.75         11.01         3.28         2.96         33.00  \n",
       "4                11.27          8.89        10.22         1.00         31.37  "
      ]
     },
     "execution_count": 9,
     "metadata": {},
     "output_type": "execute_result"
    }
   ],
   "source": [
    "df.head()"
   ]
  },
  {
   "cell_type": "code",
   "execution_count": 10,
   "id": "f2af708f",
   "metadata": {
    "execution": {
     "iopub.execute_input": "2022-04-24T12:15:31.661358Z",
     "iopub.status.busy": "2022-04-24T12:15:31.660838Z",
     "iopub.status.idle": "2022-04-24T12:15:31.683407Z",
     "shell.execute_reply": "2022-04-24T12:15:31.682863Z"
    },
    "papermill": {
     "duration": 0.069713,
     "end_time": "2022-04-24T12:15:31.685196",
     "exception": false,
     "start_time": "2022-04-24T12:15:31.615483",
     "status": "completed"
    },
    "tags": []
   },
   "outputs": [
    {
     "data": {
      "text/html": [
       "<div>\n",
       "<style scoped>\n",
       "    .dataframe tbody tr th:only-of-type {\n",
       "        vertical-align: middle;\n",
       "    }\n",
       "\n",
       "    .dataframe tbody tr th {\n",
       "        vertical-align: top;\n",
       "    }\n",
       "\n",
       "    .dataframe thead th {\n",
       "        text-align: right;\n",
       "    }\n",
       "</style>\n",
       "<table border=\"1\" class=\"dataframe\">\n",
       "  <thead>\n",
       "    <tr style=\"text-align: right;\">\n",
       "      <th></th>\n",
       "      <th>Rank</th>\n",
       "      <th>Name</th>\n",
       "      <th>Platform</th>\n",
       "      <th>Year</th>\n",
       "      <th>Genre</th>\n",
       "      <th>Publisher</th>\n",
       "      <th>North_America_sales</th>\n",
       "      <th>Europe_Sales</th>\n",
       "      <th>Japan_sales</th>\n",
       "      <th>Other_Sales</th>\n",
       "      <th>Global_Sales</th>\n",
       "    </tr>\n",
       "  </thead>\n",
       "  <tbody>\n",
       "    <tr>\n",
       "      <th>2093</th>\n",
       "      <td>2095</td>\n",
       "      <td>Oddworld: Abe's Exoddus</td>\n",
       "      <td>PS</td>\n",
       "      <td>1998.0</td>\n",
       "      <td>Platform</td>\n",
       "      <td>GT Interactive</td>\n",
       "      <td>0.55</td>\n",
       "      <td>0.38</td>\n",
       "      <td>0.00</td>\n",
       "      <td>0.06</td>\n",
       "      <td>0.99</td>\n",
       "    </tr>\n",
       "    <tr>\n",
       "      <th>6161</th>\n",
       "      <td>6163</td>\n",
       "      <td>Famista '92</td>\n",
       "      <td>NES</td>\n",
       "      <td>1991.0</td>\n",
       "      <td>Sports</td>\n",
       "      <td>Namco Bandai Games</td>\n",
       "      <td>0.00</td>\n",
       "      <td>0.00</td>\n",
       "      <td>0.28</td>\n",
       "      <td>0.00</td>\n",
       "      <td>0.28</td>\n",
       "    </tr>\n",
       "    <tr>\n",
       "      <th>13698</th>\n",
       "      <td>13700</td>\n",
       "      <td>Gakuen Hetalia Portable</td>\n",
       "      <td>PSP</td>\n",
       "      <td>2011.0</td>\n",
       "      <td>Adventure</td>\n",
       "      <td>Idea Factory</td>\n",
       "      <td>0.00</td>\n",
       "      <td>0.00</td>\n",
       "      <td>0.04</td>\n",
       "      <td>0.00</td>\n",
       "      <td>0.04</td>\n",
       "    </tr>\n",
       "    <tr>\n",
       "      <th>3574</th>\n",
       "      <td>3576</td>\n",
       "      <td>Yu-Gi-Oh! World Championship Tournament 2004</td>\n",
       "      <td>GBA</td>\n",
       "      <td>2004.0</td>\n",
       "      <td>Misc</td>\n",
       "      <td>Konami Digital Entertainment</td>\n",
       "      <td>0.40</td>\n",
       "      <td>0.15</td>\n",
       "      <td>0.00</td>\n",
       "      <td>0.01</td>\n",
       "      <td>0.56</td>\n",
       "    </tr>\n",
       "    <tr>\n",
       "      <th>874</th>\n",
       "      <td>876</td>\n",
       "      <td>Star Wars: Dark Forces</td>\n",
       "      <td>PC</td>\n",
       "      <td>1994.0</td>\n",
       "      <td>Shooter</td>\n",
       "      <td>LucasArts</td>\n",
       "      <td>1.09</td>\n",
       "      <td>0.77</td>\n",
       "      <td>0.00</td>\n",
       "      <td>0.09</td>\n",
       "      <td>1.95</td>\n",
       "    </tr>\n",
       "    <tr>\n",
       "      <th>2325</th>\n",
       "      <td>2327</td>\n",
       "      <td>Call of Juarez: Bound in Blood</td>\n",
       "      <td>PS3</td>\n",
       "      <td>2009.0</td>\n",
       "      <td>Shooter</td>\n",
       "      <td>Ubisoft</td>\n",
       "      <td>0.35</td>\n",
       "      <td>0.38</td>\n",
       "      <td>0.01</td>\n",
       "      <td>0.16</td>\n",
       "      <td>0.89</td>\n",
       "    </tr>\n",
       "    <tr>\n",
       "      <th>2342</th>\n",
       "      <td>2344</td>\n",
       "      <td>EA Sports UFC 2</td>\n",
       "      <td>PS4</td>\n",
       "      <td>2016.0</td>\n",
       "      <td>Sports</td>\n",
       "      <td>Electronic Arts</td>\n",
       "      <td>0.28</td>\n",
       "      <td>0.47</td>\n",
       "      <td>0.00</td>\n",
       "      <td>0.14</td>\n",
       "      <td>0.89</td>\n",
       "    </tr>\n",
       "    <tr>\n",
       "      <th>4874</th>\n",
       "      <td>4876</td>\n",
       "      <td>Tales of Phantasia</td>\n",
       "      <td>SNES</td>\n",
       "      <td>1995.0</td>\n",
       "      <td>Role-Playing</td>\n",
       "      <td>Namco Bandai Games</td>\n",
       "      <td>0.00</td>\n",
       "      <td>0.00</td>\n",
       "      <td>0.40</td>\n",
       "      <td>0.00</td>\n",
       "      <td>0.40</td>\n",
       "    </tr>\n",
       "    <tr>\n",
       "      <th>2613</th>\n",
       "      <td>2615</td>\n",
       "      <td>Armored Core 2</td>\n",
       "      <td>PS2</td>\n",
       "      <td>2000.0</td>\n",
       "      <td>Simulation</td>\n",
       "      <td>Ubisoft</td>\n",
       "      <td>0.28</td>\n",
       "      <td>0.22</td>\n",
       "      <td>0.23</td>\n",
       "      <td>0.07</td>\n",
       "      <td>0.79</td>\n",
       "    </tr>\n",
       "    <tr>\n",
       "      <th>13288</th>\n",
       "      <td>13290</td>\n",
       "      <td>Wasteland 2</td>\n",
       "      <td>XOne</td>\n",
       "      <td>2015.0</td>\n",
       "      <td>Role-Playing</td>\n",
       "      <td>Deep Silver</td>\n",
       "      <td>0.04</td>\n",
       "      <td>0.01</td>\n",
       "      <td>0.00</td>\n",
       "      <td>0.00</td>\n",
       "      <td>0.05</td>\n",
       "    </tr>\n",
       "  </tbody>\n",
       "</table>\n",
       "</div>"
      ],
      "text/plain": [
       "        Rank                                          Name Platform    Year  \\\n",
       "2093    2095                       Oddworld: Abe's Exoddus       PS  1998.0   \n",
       "6161    6163                                   Famista '92      NES  1991.0   \n",
       "13698  13700                       Gakuen Hetalia Portable      PSP  2011.0   \n",
       "3574    3576  Yu-Gi-Oh! World Championship Tournament 2004      GBA  2004.0   \n",
       "874      876                        Star Wars: Dark Forces       PC  1994.0   \n",
       "2325    2327                Call of Juarez: Bound in Blood      PS3  2009.0   \n",
       "2342    2344                               EA Sports UFC 2      PS4  2016.0   \n",
       "4874    4876                            Tales of Phantasia     SNES  1995.0   \n",
       "2613    2615                                Armored Core 2      PS2  2000.0   \n",
       "13288  13290                                   Wasteland 2     XOne  2015.0   \n",
       "\n",
       "              Genre                     Publisher  North_America_sales  \\\n",
       "2093       Platform                GT Interactive                 0.55   \n",
       "6161         Sports            Namco Bandai Games                 0.00   \n",
       "13698     Adventure                  Idea Factory                 0.00   \n",
       "3574           Misc  Konami Digital Entertainment                 0.40   \n",
       "874         Shooter                     LucasArts                 1.09   \n",
       "2325        Shooter                       Ubisoft                 0.35   \n",
       "2342         Sports               Electronic Arts                 0.28   \n",
       "4874   Role-Playing            Namco Bandai Games                 0.00   \n",
       "2613     Simulation                       Ubisoft                 0.28   \n",
       "13288  Role-Playing                   Deep Silver                 0.04   \n",
       "\n",
       "       Europe_Sales  Japan_sales  Other_Sales  Global_Sales  \n",
       "2093           0.38         0.00         0.06          0.99  \n",
       "6161           0.00         0.28         0.00          0.28  \n",
       "13698          0.00         0.04         0.00          0.04  \n",
       "3574           0.15         0.00         0.01          0.56  \n",
       "874            0.77         0.00         0.09          1.95  \n",
       "2325           0.38         0.01         0.16          0.89  \n",
       "2342           0.47         0.00         0.14          0.89  \n",
       "4874           0.00         0.40         0.00          0.40  \n",
       "2613           0.22         0.23         0.07          0.79  \n",
       "13288          0.01         0.00         0.00          0.05  "
      ]
     },
     "execution_count": 10,
     "metadata": {},
     "output_type": "execute_result"
    }
   ],
   "source": [
    "#get a random sample of data in the dataset\n",
    "df.sample(n=10)"
   ]
  },
  {
   "cell_type": "markdown",
   "id": "5afca939",
   "metadata": {
    "papermill": {
     "duration": 0.056601,
     "end_time": "2022-04-24T12:15:31.785971",
     "exception": false,
     "start_time": "2022-04-24T12:15:31.729370",
     "status": "completed"
    },
    "tags": []
   },
   "source": [
    "The dates all have an extra .0  that we will need to remove\n",
    "        -Will change date type for the year column to integer\n",
    "        \n"
   ]
  },
  {
   "cell_type": "code",
   "execution_count": 11,
   "id": "c40a4029",
   "metadata": {
    "execution": {
     "iopub.execute_input": "2022-04-24T12:15:31.875044Z",
     "iopub.status.busy": "2022-04-24T12:15:31.874571Z",
     "iopub.status.idle": "2022-04-24T12:15:31.888636Z",
     "shell.execute_reply": "2022-04-24T12:15:31.888081Z"
    },
    "papermill": {
     "duration": 0.06062,
     "end_time": "2022-04-24T12:15:31.890304",
     "exception": false,
     "start_time": "2022-04-24T12:15:31.829684",
     "status": "completed"
    },
    "tags": []
   },
   "outputs": [
    {
     "data": {
      "text/plain": [
       "Rank                     0\n",
       "Name                     0\n",
       "Platform                 0\n",
       "Year                   271\n",
       "Genre                    0\n",
       "Publisher               58\n",
       "North_America_sales      0\n",
       "Europe_Sales             0\n",
       "Japan_sales              0\n",
       "Other_Sales              0\n",
       "Global_Sales             0\n",
       "dtype: int64"
      ]
     },
     "execution_count": 11,
     "metadata": {},
     "output_type": "execute_result"
    }
   ],
   "source": [
    "df.isnull().sum()"
   ]
  },
  {
   "cell_type": "code",
   "execution_count": 12,
   "id": "9296edd6",
   "metadata": {
    "execution": {
     "iopub.execute_input": "2022-04-24T12:15:31.983054Z",
     "iopub.status.busy": "2022-04-24T12:15:31.982342Z",
     "iopub.status.idle": "2022-04-24T12:15:31.997183Z",
     "shell.execute_reply": "2022-04-24T12:15:31.996298Z"
    },
    "papermill": {
     "duration": 0.063373,
     "end_time": "2022-04-24T12:15:31.999166",
     "exception": false,
     "start_time": "2022-04-24T12:15:31.935793",
     "status": "completed"
    },
    "tags": []
   },
   "outputs": [],
   "source": [
    "# dropping null values so as to convert float values in year to integer type\n",
    "df = df.dropna()"
   ]
  },
  {
   "cell_type": "code",
   "execution_count": 13,
   "id": "6975e2d0",
   "metadata": {
    "execution": {
     "iopub.execute_input": "2022-04-24T12:15:32.090874Z",
     "iopub.status.busy": "2022-04-24T12:15:32.090583Z",
     "iopub.status.idle": "2022-04-24T12:15:32.095729Z",
     "shell.execute_reply": "2022-04-24T12:15:32.095172Z"
    },
    "papermill": {
     "duration": 0.053446,
     "end_time": "2022-04-24T12:15:32.097413",
     "exception": false,
     "start_time": "2022-04-24T12:15:32.043967",
     "status": "completed"
    },
    "tags": []
   },
   "outputs": [],
   "source": [
    "df['Year'] = df['Year'].astype(int)"
   ]
  },
  {
   "cell_type": "code",
   "execution_count": 14,
   "id": "6d27087b",
   "metadata": {
    "execution": {
     "iopub.execute_input": "2022-04-24T12:15:32.187701Z",
     "iopub.status.busy": "2022-04-24T12:15:32.187197Z",
     "iopub.status.idle": "2022-04-24T12:15:32.193617Z",
     "shell.execute_reply": "2022-04-24T12:15:32.193065Z"
    },
    "papermill": {
     "duration": 0.052923,
     "end_time": "2022-04-24T12:15:32.195260",
     "exception": false,
     "start_time": "2022-04-24T12:15:32.142337",
     "status": "completed"
    },
    "tags": []
   },
   "outputs": [
    {
     "data": {
      "text/plain": [
       "2009    1431\n",
       "2008    1428\n",
       "2010    1257\n",
       "2007    1201\n",
       "2011    1136\n",
       "2006    1008\n",
       "2005     936\n",
       "2002     829\n",
       "2003     775\n",
       "2004     744\n",
       "2012     655\n",
       "2015     614\n",
       "2014     580\n",
       "2013     546\n",
       "2001     482\n",
       "1998     379\n",
       "2000     349\n",
       "2016     342\n",
       "1999     338\n",
       "1997     289\n",
       "1996     263\n",
       "1995     219\n",
       "1994     121\n",
       "1993      60\n",
       "1981      46\n",
       "1992      43\n",
       "1991      41\n",
       "1982      36\n",
       "1986      21\n",
       "1989      17\n",
       "1983      17\n",
       "1990      16\n",
       "1987      16\n",
       "1988      15\n",
       "1985      14\n",
       "1984      14\n",
       "1980       9\n",
       "2017       3\n",
       "2020       1\n",
       "Name: Year, dtype: int64"
      ]
     },
     "execution_count": 14,
     "metadata": {},
     "output_type": "execute_result"
    }
   ],
   "source": [
    "df['Year'].value_counts()"
   ]
  },
  {
   "cell_type": "code",
   "execution_count": 15,
   "id": "81435fe8",
   "metadata": {
    "execution": {
     "iopub.execute_input": "2022-04-24T12:15:32.286765Z",
     "iopub.status.busy": "2022-04-24T12:15:32.286250Z",
     "iopub.status.idle": "2022-04-24T12:15:32.301304Z",
     "shell.execute_reply": "2022-04-24T12:15:32.300750Z"
    },
    "papermill": {
     "duration": 0.063329,
     "end_time": "2022-04-24T12:15:32.302967",
     "exception": false,
     "start_time": "2022-04-24T12:15:32.239638",
     "status": "completed"
    },
    "tags": []
   },
   "outputs": [
    {
     "data": {
      "text/html": [
       "<div>\n",
       "<style scoped>\n",
       "    .dataframe tbody tr th:only-of-type {\n",
       "        vertical-align: middle;\n",
       "    }\n",
       "\n",
       "    .dataframe tbody tr th {\n",
       "        vertical-align: top;\n",
       "    }\n",
       "\n",
       "    .dataframe thead th {\n",
       "        text-align: right;\n",
       "    }\n",
       "</style>\n",
       "<table border=\"1\" class=\"dataframe\">\n",
       "  <thead>\n",
       "    <tr style=\"text-align: right;\">\n",
       "      <th></th>\n",
       "      <th>Rank</th>\n",
       "      <th>Name</th>\n",
       "      <th>Platform</th>\n",
       "      <th>Year</th>\n",
       "      <th>Genre</th>\n",
       "      <th>Publisher</th>\n",
       "      <th>North_America_sales</th>\n",
       "      <th>Europe_Sales</th>\n",
       "      <th>Japan_sales</th>\n",
       "      <th>Other_Sales</th>\n",
       "      <th>Global_Sales</th>\n",
       "    </tr>\n",
       "  </thead>\n",
       "  <tbody>\n",
       "    <tr>\n",
       "      <th>0</th>\n",
       "      <td>1</td>\n",
       "      <td>Wii Sports</td>\n",
       "      <td>Wii</td>\n",
       "      <td>2006</td>\n",
       "      <td>Sports</td>\n",
       "      <td>Nintendo</td>\n",
       "      <td>41.49</td>\n",
       "      <td>29.02</td>\n",
       "      <td>3.77</td>\n",
       "      <td>8.46</td>\n",
       "      <td>82.74</td>\n",
       "    </tr>\n",
       "    <tr>\n",
       "      <th>1</th>\n",
       "      <td>2</td>\n",
       "      <td>Super Mario Bros.</td>\n",
       "      <td>NES</td>\n",
       "      <td>1985</td>\n",
       "      <td>Platform</td>\n",
       "      <td>Nintendo</td>\n",
       "      <td>29.08</td>\n",
       "      <td>3.58</td>\n",
       "      <td>6.81</td>\n",
       "      <td>0.77</td>\n",
       "      <td>40.24</td>\n",
       "    </tr>\n",
       "    <tr>\n",
       "      <th>2</th>\n",
       "      <td>3</td>\n",
       "      <td>Mario Kart Wii</td>\n",
       "      <td>Wii</td>\n",
       "      <td>2008</td>\n",
       "      <td>Racing</td>\n",
       "      <td>Nintendo</td>\n",
       "      <td>15.85</td>\n",
       "      <td>12.88</td>\n",
       "      <td>3.79</td>\n",
       "      <td>3.31</td>\n",
       "      <td>35.82</td>\n",
       "    </tr>\n",
       "    <tr>\n",
       "      <th>3</th>\n",
       "      <td>4</td>\n",
       "      <td>Wii Sports Resort</td>\n",
       "      <td>Wii</td>\n",
       "      <td>2009</td>\n",
       "      <td>Sports</td>\n",
       "      <td>Nintendo</td>\n",
       "      <td>15.75</td>\n",
       "      <td>11.01</td>\n",
       "      <td>3.28</td>\n",
       "      <td>2.96</td>\n",
       "      <td>33.00</td>\n",
       "    </tr>\n",
       "    <tr>\n",
       "      <th>4</th>\n",
       "      <td>5</td>\n",
       "      <td>Pokemon Red/Pokemon Blue</td>\n",
       "      <td>GB</td>\n",
       "      <td>1996</td>\n",
       "      <td>Role-Playing</td>\n",
       "      <td>Nintendo</td>\n",
       "      <td>11.27</td>\n",
       "      <td>8.89</td>\n",
       "      <td>10.22</td>\n",
       "      <td>1.00</td>\n",
       "      <td>31.37</td>\n",
       "    </tr>\n",
       "  </tbody>\n",
       "</table>\n",
       "</div>"
      ],
      "text/plain": [
       "   Rank                      Name Platform  Year         Genre Publisher  \\\n",
       "0     1                Wii Sports      Wii  2006        Sports  Nintendo   \n",
       "1     2         Super Mario Bros.      NES  1985      Platform  Nintendo   \n",
       "2     3            Mario Kart Wii      Wii  2008        Racing  Nintendo   \n",
       "3     4         Wii Sports Resort      Wii  2009        Sports  Nintendo   \n",
       "4     5  Pokemon Red/Pokemon Blue       GB  1996  Role-Playing  Nintendo   \n",
       "\n",
       "   North_America_sales  Europe_Sales  Japan_sales  Other_Sales  Global_Sales  \n",
       "0                41.49         29.02         3.77         8.46         82.74  \n",
       "1                29.08          3.58         6.81         0.77         40.24  \n",
       "2                15.85         12.88         3.79         3.31         35.82  \n",
       "3                15.75         11.01         3.28         2.96         33.00  \n",
       "4                11.27          8.89        10.22         1.00         31.37  "
      ]
     },
     "execution_count": 15,
     "metadata": {},
     "output_type": "execute_result"
    }
   ],
   "source": [
    "#look at top 5 of the best selling video games\n",
    "df.head()"
   ]
  },
  {
   "cell_type": "code",
   "execution_count": 16,
   "id": "83a9dba4",
   "metadata": {
    "execution": {
     "iopub.execute_input": "2022-04-24T12:15:32.396533Z",
     "iopub.status.busy": "2022-04-24T12:15:32.396057Z",
     "iopub.status.idle": "2022-04-24T12:15:32.411705Z",
     "shell.execute_reply": "2022-04-24T12:15:32.410948Z"
    },
    "papermill": {
     "duration": 0.064632,
     "end_time": "2022-04-24T12:15:32.413585",
     "exception": false,
     "start_time": "2022-04-24T12:15:32.348953",
     "status": "completed"
    },
    "tags": []
   },
   "outputs": [
    {
     "data": {
      "text/html": [
       "<div>\n",
       "<style scoped>\n",
       "    .dataframe tbody tr th:only-of-type {\n",
       "        vertical-align: middle;\n",
       "    }\n",
       "\n",
       "    .dataframe tbody tr th {\n",
       "        vertical-align: top;\n",
       "    }\n",
       "\n",
       "    .dataframe thead th {\n",
       "        text-align: right;\n",
       "    }\n",
       "</style>\n",
       "<table border=\"1\" class=\"dataframe\">\n",
       "  <thead>\n",
       "    <tr style=\"text-align: right;\">\n",
       "      <th></th>\n",
       "      <th>Rank</th>\n",
       "      <th>Name</th>\n",
       "      <th>Platform</th>\n",
       "      <th>Year</th>\n",
       "      <th>Genre</th>\n",
       "      <th>Publisher</th>\n",
       "      <th>North_America_sales</th>\n",
       "      <th>Europe_Sales</th>\n",
       "      <th>Japan_sales</th>\n",
       "      <th>Other_Sales</th>\n",
       "      <th>Global_Sales</th>\n",
       "    </tr>\n",
       "  </thead>\n",
       "  <tbody>\n",
       "    <tr>\n",
       "      <th>16593</th>\n",
       "      <td>16596</td>\n",
       "      <td>Woody Woodpecker in Crazy Castle 5</td>\n",
       "      <td>GBA</td>\n",
       "      <td>2002</td>\n",
       "      <td>Platform</td>\n",
       "      <td>Kemco</td>\n",
       "      <td>0.01</td>\n",
       "      <td>0.00</td>\n",
       "      <td>0.0</td>\n",
       "      <td>0.0</td>\n",
       "      <td>0.01</td>\n",
       "    </tr>\n",
       "    <tr>\n",
       "      <th>16594</th>\n",
       "      <td>16597</td>\n",
       "      <td>Men in Black II: Alien Escape</td>\n",
       "      <td>GC</td>\n",
       "      <td>2003</td>\n",
       "      <td>Shooter</td>\n",
       "      <td>Infogrames</td>\n",
       "      <td>0.01</td>\n",
       "      <td>0.00</td>\n",
       "      <td>0.0</td>\n",
       "      <td>0.0</td>\n",
       "      <td>0.01</td>\n",
       "    </tr>\n",
       "    <tr>\n",
       "      <th>16595</th>\n",
       "      <td>16598</td>\n",
       "      <td>SCORE International Baja 1000: The Official Game</td>\n",
       "      <td>PS2</td>\n",
       "      <td>2008</td>\n",
       "      <td>Racing</td>\n",
       "      <td>Activision</td>\n",
       "      <td>0.00</td>\n",
       "      <td>0.00</td>\n",
       "      <td>0.0</td>\n",
       "      <td>0.0</td>\n",
       "      <td>0.01</td>\n",
       "    </tr>\n",
       "    <tr>\n",
       "      <th>16596</th>\n",
       "      <td>16599</td>\n",
       "      <td>Know How 2</td>\n",
       "      <td>DS</td>\n",
       "      <td>2010</td>\n",
       "      <td>Puzzle</td>\n",
       "      <td>7G//AMES</td>\n",
       "      <td>0.00</td>\n",
       "      <td>0.01</td>\n",
       "      <td>0.0</td>\n",
       "      <td>0.0</td>\n",
       "      <td>0.01</td>\n",
       "    </tr>\n",
       "    <tr>\n",
       "      <th>16597</th>\n",
       "      <td>16600</td>\n",
       "      <td>Spirits &amp; Spells</td>\n",
       "      <td>GBA</td>\n",
       "      <td>2003</td>\n",
       "      <td>Platform</td>\n",
       "      <td>Wanadoo</td>\n",
       "      <td>0.01</td>\n",
       "      <td>0.00</td>\n",
       "      <td>0.0</td>\n",
       "      <td>0.0</td>\n",
       "      <td>0.01</td>\n",
       "    </tr>\n",
       "  </tbody>\n",
       "</table>\n",
       "</div>"
      ],
      "text/plain": [
       "        Rank                                              Name Platform  Year  \\\n",
       "16593  16596                Woody Woodpecker in Crazy Castle 5      GBA  2002   \n",
       "16594  16597                     Men in Black II: Alien Escape       GC  2003   \n",
       "16595  16598  SCORE International Baja 1000: The Official Game      PS2  2008   \n",
       "16596  16599                                        Know How 2       DS  2010   \n",
       "16597  16600                                  Spirits & Spells      GBA  2003   \n",
       "\n",
       "          Genre   Publisher  North_America_sales  Europe_Sales  Japan_sales  \\\n",
       "16593  Platform       Kemco                 0.01          0.00          0.0   \n",
       "16594   Shooter  Infogrames                 0.01          0.00          0.0   \n",
       "16595    Racing  Activision                 0.00          0.00          0.0   \n",
       "16596    Puzzle    7G//AMES                 0.00          0.01          0.0   \n",
       "16597  Platform     Wanadoo                 0.01          0.00          0.0   \n",
       "\n",
       "       Other_Sales  Global_Sales  \n",
       "16593          0.0          0.01  \n",
       "16594          0.0          0.01  \n",
       "16595          0.0          0.01  \n",
       "16596          0.0          0.01  \n",
       "16597          0.0          0.01  "
      ]
     },
     "execution_count": 16,
     "metadata": {},
     "output_type": "execute_result"
    }
   ],
   "source": [
    "#games and platform that had the worst global sales\n",
    "df.tail()"
   ]
  },
  {
   "cell_type": "code",
   "execution_count": 17,
   "id": "0f3ebf44",
   "metadata": {
    "execution": {
     "iopub.execute_input": "2022-04-24T12:15:32.507494Z",
     "iopub.status.busy": "2022-04-24T12:15:32.507225Z",
     "iopub.status.idle": "2022-04-24T12:15:32.912528Z",
     "shell.execute_reply": "2022-04-24T12:15:32.911658Z"
    },
    "papermill": {
     "duration": 0.454518,
     "end_time": "2022-04-24T12:15:32.914537",
     "exception": false,
     "start_time": "2022-04-24T12:15:32.460019",
     "status": "completed"
    },
    "tags": []
   },
   "outputs": [
    {
     "data": {
      "text/plain": [
       "<AxesSubplot:xlabel='Platform', ylabel='count'>"
      ]
     },
     "execution_count": 17,
     "metadata": {},
     "output_type": "execute_result"
    },
    {
     "data": {
      "image/png": "[encoded data removed]",
      "text/plain": [
       "<Figure size 1080x576 with 1 Axes>"
      ]
     },
     "metadata": {
      "needs_background": "light"
     },
     "output_type": "display_data"
    }
   ],
   "source": [
    "#lets look at the number of Platforms present in the dataset\n",
    "plot.figure(figsize=(15,8))\n",
    "sns.countplot(data = df, x='Platform')"
   ]
  },
  {
   "cell_type": "markdown",
   "id": "d560e1ec",
   "metadata": {
    "papermill": {
     "duration": 0.047558,
     "end_time": "2022-04-24T12:15:33.009365",
     "exception": false,
     "start_time": "2022-04-24T12:15:32.961807",
     "status": "completed"
    },
    "tags": []
   },
   "source": [
    "Looking at this graph we can see that that platform the most popular with users are:<br>\n",
    "    -PS2 & Nintendo DS which seems tied for first place.<br>\n",
    "    -The Nintendo consoles seems to be the popular choice with most games being available on one of the Nintendo <br>\n",
    "    systems<br>\n",
    "    -Xb360 and PS3 were direct competitors for each other and Xb360 was still the new kid in the block, but its \n",
    "    support were almost equal to that of PS3\n",
    "    "
   ]
  },
  {
   "cell_type": "code",
   "execution_count": 18,
   "id": "ece4fbf5",
   "metadata": {
    "execution": {
     "iopub.execute_input": "2022-04-24T12:15:33.108631Z",
     "iopub.status.busy": "2022-04-24T12:15:33.108386Z",
     "iopub.status.idle": "2022-04-24T12:15:33.563285Z",
     "shell.execute_reply": "2022-04-24T12:15:33.562399Z"
    },
    "papermill": {
     "duration": 0.507276,
     "end_time": "2022-04-24T12:15:33.565294",
     "exception": false,
     "start_time": "2022-04-24T12:15:33.058018",
     "status": "completed"
    },
    "tags": []
   },
   "outputs": [
    {
     "data": {
      "image/png": "[encoded data removed]",
      "text/plain": [
       "<Figure size 1080x576 with 1 Axes>"
      ]
     },
     "metadata": {
      "needs_background": "light"
     },
     "output_type": "display_data"
    }
   ],
   "source": [
    "#look at number of releases per year.  \n",
    "plot.figure(figsize=(15,8))\n",
    "sns.countplot(data=df, x='Year')\n",
    "plot.xticks(rotation =45);"
   ]
  },
  {
   "cell_type": "markdown",
   "id": "588b00a5",
   "metadata": {
    "papermill": {
     "duration": 0.060854,
     "end_time": "2022-04-24T12:15:33.675294",
     "exception": false,
     "start_time": "2022-04-24T12:15:33.614440",
     "status": "completed"
    },
    "tags": []
   },
   "source": [
    "2008 & 2009 was both big years for video games considering the number of games released for each year.\n"
   ]
  },
  {
   "cell_type": "code",
   "execution_count": 19,
   "id": "b1f229a6",
   "metadata": {
    "execution": {
     "iopub.execute_input": "2022-04-24T12:15:33.790404Z",
     "iopub.status.busy": "2022-04-24T12:15:33.789810Z",
     "iopub.status.idle": "2022-04-24T12:15:34.089419Z",
     "shell.execute_reply": "2022-04-24T12:15:34.088640Z"
    },
    "papermill": {
     "duration": 0.354605,
     "end_time": "2022-04-24T12:15:34.091931",
     "exception": false,
     "start_time": "2022-04-24T12:15:33.737326",
     "status": "completed"
    },
    "tags": []
   },
   "outputs": [
    {
     "data": {
      "image/png": "[encoded data removed]",
      "text/plain": [
       "<Figure size 1080x576 with 1 Axes>"
      ]
     },
     "metadata": {
      "needs_background": "light"
     },
     "output_type": "display_data"
    }
   ],
   "source": [
    "#look at different genres present in the dataset \n",
    "plot.figure(figsize=(15,8))\n",
    "sns.countplot(data=df, x='Genre')\n",
    "plot.xticks(rotation =45);"
   ]
  },
  {
   "cell_type": "code",
   "execution_count": 20,
   "id": "34d5478f",
   "metadata": {
    "execution": {
     "iopub.execute_input": "2022-04-24T12:15:34.196224Z",
     "iopub.status.busy": "2022-04-24T12:15:34.195634Z",
     "iopub.status.idle": "2022-04-24T12:15:34.205300Z",
     "shell.execute_reply": "2022-04-24T12:15:34.204386Z"
    },
    "papermill": {
     "duration": 0.063789,
     "end_time": "2022-04-24T12:15:34.207233",
     "exception": false,
     "start_time": "2022-04-24T12:15:34.143444",
     "status": "completed"
    },
    "tags": []
   },
   "outputs": [
    {
     "data": {
      "text/plain": [
       "Action          3251\n",
       "Sports          2304\n",
       "Misc            1686\n",
       "Role-Playing    1470\n",
       "Shooter         1282\n",
       "Adventure       1274\n",
       "Racing          1225\n",
       "Platform         875\n",
       "Simulation       848\n",
       "Fighting         836\n",
       "Strategy         670\n",
       "Puzzle           570\n",
       "Name: Genre, dtype: int64"
      ]
     },
     "execution_count": 20,
     "metadata": {},
     "output_type": "execute_result"
    }
   ],
   "source": [
    "df['Genre'].value_counts()"
   ]
  },
  {
   "cell_type": "markdown",
   "id": "a17ea802",
   "metadata": {
    "papermill": {
     "duration": 0.050808,
     "end_time": "2022-04-24T12:15:34.308707",
     "exception": false,
     "start_time": "2022-04-24T12:15:34.257899",
     "status": "completed"
    },
    "tags": []
   },
   "source": [
    "In general it seems that action games are the most popular genre"
   ]
  },
  {
   "cell_type": "code",
   "execution_count": 21,
   "id": "f789046f",
   "metadata": {
    "execution": {
     "iopub.execute_input": "2022-04-24T12:15:34.412749Z",
     "iopub.status.busy": "2022-04-24T12:15:34.412081Z",
     "iopub.status.idle": "2022-04-24T12:15:35.226168Z",
     "shell.execute_reply": "2022-04-24T12:15:35.225265Z"
    },
    "papermill": {
     "duration": 0.868634,
     "end_time": "2022-04-24T12:15:35.228261",
     "exception": false,
     "start_time": "2022-04-24T12:15:34.359627",
     "status": "completed"
    },
    "tags": []
   },
   "outputs": [
    {
     "data": {
      "text/plain": [
       "<AxesSubplot:xlabel='Global_Sales', ylabel='Genre'>"
      ]
     },
     "execution_count": 21,
     "metadata": {},
     "output_type": "execute_result"
    },
    {
     "data": {
      "image/png": "[encoded data removed]",
      "text/plain": [
       "<Figure size 432x288 with 1 Axes>"
      ]
     },
     "metadata": {
      "needs_background": "light"
     },
     "output_type": "display_data"
    }
   ],
   "source": [
    "#look at global sales per genre\n",
    "\n",
    "sns.barplot(data=df, x='Global_Sales', y='Genre')"
   ]
  },
  {
   "cell_type": "markdown",
   "id": "e1cf4d24",
   "metadata": {
    "papermill": {
     "duration": 0.052754,
     "end_time": "2022-04-24T12:15:35.333290",
     "exception": false,
     "start_time": "2022-04-24T12:15:35.280536",
     "status": "completed"
    },
    "tags": []
   },
   "source": [
    "    -interestingly platform type games has the most global sales.  \n",
    "    -Global sales for adventure and strategy games are lagging far behind.  "
   ]
  },
  {
   "cell_type": "code",
   "execution_count": 22,
   "id": "4b76842c",
   "metadata": {
    "execution": {
     "iopub.execute_input": "2022-04-24T12:15:35.442733Z",
     "iopub.status.busy": "2022-04-24T12:15:35.442415Z",
     "iopub.status.idle": "2022-04-24T12:15:36.915096Z",
     "shell.execute_reply": "2022-04-24T12:15:36.914185Z"
    },
    "papermill": {
     "duration": 1.530173,
     "end_time": "2022-04-24T12:15:36.917444",
     "exception": false,
     "start_time": "2022-04-24T12:15:35.387271",
     "status": "completed"
    },
    "tags": []
   },
   "outputs": [
    {
     "data": {
      "text/plain": [
       "<AxesSubplot:xlabel='Global_Sales', ylabel='Platform'>"
      ]
     },
     "execution_count": 22,
     "metadata": {},
     "output_type": "execute_result"
    },
    {
     "data": {
      "image/png": "[encoded data removed]",
      "text/plain": [
       "<Figure size 1080x576 with 1 Axes>"
      ]
     },
     "metadata": {
      "needs_background": "light"
     },
     "output_type": "display_data"
    }
   ],
   "source": [
    "#look at global sales per platform\n",
    "plot.figure(figsize=(15,8))\n",
    "sns.barplot(data=df, x='Global_Sales', y='Platform')"
   ]
  },
  {
   "cell_type": "code",
   "execution_count": 23,
   "id": "a498110a",
   "metadata": {
    "execution": {
     "iopub.execute_input": "2022-04-24T12:15:37.028328Z",
     "iopub.status.busy": "2022-04-24T12:15:37.027867Z",
     "iopub.status.idle": "2022-04-24T12:15:39.094351Z",
     "shell.execute_reply": "2022-04-24T12:15:39.093419Z"
    },
    "papermill": {
     "duration": 2.124499,
     "end_time": "2022-04-24T12:15:39.096605",
     "exception": false,
     "start_time": "2022-04-24T12:15:36.972106",
     "status": "completed"
    },
    "tags": []
   },
   "outputs": [
    {
     "data": {
      "image/png": "[encoded data removed]",
      "text/plain": [
       "<Figure size 1080x576 with 1 Axes>"
      ]
     },
     "metadata": {
      "needs_background": "light"
     },
     "output_type": "display_data"
    }
   ],
   "source": [
    "#look at distribution of gaming ranks by year\n",
    "plot.figure(figsize=(15,8))\n",
    "sns.barplot(data=df, y='Rank', x='Year')\n",
    "plot.xticks(rotation = 45);"
   ]
  },
  {
   "cell_type": "markdown",
   "id": "c3a59089",
   "metadata": {
    "papermill": {
     "duration": 0.053999,
     "end_time": "2022-04-24T12:15:39.207204",
     "exception": false,
     "start_time": "2022-04-24T12:15:39.153205",
     "status": "completed"
    },
    "tags": []
   },
   "source": [
    "The majority of bad ranking games seems to be those new generation games.  With the games from the so called golden era of gaming having a lot of titles that are ranked better"
   ]
  },
  {
   "cell_type": "markdown",
   "id": "ec1a2575",
   "metadata": {
    "papermill": {
     "duration": 0.055057,
     "end_time": "2022-04-24T12:15:39.317228",
     "exception": false,
     "start_time": "2022-04-24T12:15:39.262171",
     "status": "completed"
    },
    "tags": []
   },
   "source": [
    "Get most popular game per gaming platform\n",
    "\n",
    "Get most popular game per gaming platform\n",
    "ps2, ps3, xbox360, xbone, PC\n"
   ]
  },
  {
   "cell_type": "code",
   "execution_count": 24,
   "id": "ab317f2a",
   "metadata": {
    "execution": {
     "iopub.execute_input": "2022-04-24T12:15:39.428678Z",
     "iopub.status.busy": "2022-04-24T12:15:39.428257Z",
     "iopub.status.idle": "2022-04-24T12:15:39.458184Z",
     "shell.execute_reply": "2022-04-24T12:15:39.457283Z"
    },
    "papermill": {
     "duration": 0.087968,
     "end_time": "2022-04-24T12:15:39.460128",
     "exception": false,
     "start_time": "2022-04-24T12:15:39.372160",
     "status": "completed"
    },
    "tags": []
   },
   "outputs": [
    {
     "data": {
      "text/html": [
       "<div>\n",
       "<style scoped>\n",
       "    .dataframe tbody tr th:only-of-type {\n",
       "        vertical-align: middle;\n",
       "    }\n",
       "\n",
       "    .dataframe tbody tr th {\n",
       "        vertical-align: top;\n",
       "    }\n",
       "\n",
       "    .dataframe thead th {\n",
       "        text-align: right;\n",
       "    }\n",
       "</style>\n",
       "<table border=\"1\" class=\"dataframe\">\n",
       "  <thead>\n",
       "    <tr style=\"text-align: right;\">\n",
       "      <th></th>\n",
       "      <th>Rank</th>\n",
       "      <th>Name</th>\n",
       "      <th>Platform</th>\n",
       "      <th>Year</th>\n",
       "      <th>Genre</th>\n",
       "      <th>Publisher</th>\n",
       "      <th>North_America_sales</th>\n",
       "      <th>Europe_Sales</th>\n",
       "      <th>Japan_sales</th>\n",
       "      <th>Other_Sales</th>\n",
       "      <th>Global_Sales</th>\n",
       "    </tr>\n",
       "  </thead>\n",
       "  <tbody>\n",
       "    <tr>\n",
       "      <th>17</th>\n",
       "      <td>18</td>\n",
       "      <td>Grand Theft Auto: San Andreas</td>\n",
       "      <td>PS2</td>\n",
       "      <td>2004</td>\n",
       "      <td>Action</td>\n",
       "      <td>Take-Two Interactive</td>\n",
       "      <td>9.43</td>\n",
       "      <td>0.40</td>\n",
       "      <td>0.41</td>\n",
       "      <td>10.57</td>\n",
       "      <td>20.81</td>\n",
       "    </tr>\n",
       "    <tr>\n",
       "      <th>24</th>\n",
       "      <td>25</td>\n",
       "      <td>Grand Theft Auto: Vice City</td>\n",
       "      <td>PS2</td>\n",
       "      <td>2002</td>\n",
       "      <td>Action</td>\n",
       "      <td>Take-Two Interactive</td>\n",
       "      <td>8.41</td>\n",
       "      <td>5.49</td>\n",
       "      <td>0.47</td>\n",
       "      <td>1.78</td>\n",
       "      <td>16.15</td>\n",
       "    </tr>\n",
       "    <tr>\n",
       "      <th>28</th>\n",
       "      <td>29</td>\n",
       "      <td>Gran Turismo 3: A-Spec</td>\n",
       "      <td>PS2</td>\n",
       "      <td>2001</td>\n",
       "      <td>Racing</td>\n",
       "      <td>Sony Computer Entertainment</td>\n",
       "      <td>6.85</td>\n",
       "      <td>5.09</td>\n",
       "      <td>1.87</td>\n",
       "      <td>1.16</td>\n",
       "      <td>14.98</td>\n",
       "    </tr>\n",
       "    <tr>\n",
       "      <th>38</th>\n",
       "      <td>39</td>\n",
       "      <td>Grand Theft Auto III</td>\n",
       "      <td>PS2</td>\n",
       "      <td>2001</td>\n",
       "      <td>Action</td>\n",
       "      <td>Take-Two Interactive</td>\n",
       "      <td>6.99</td>\n",
       "      <td>4.51</td>\n",
       "      <td>0.30</td>\n",
       "      <td>1.30</td>\n",
       "      <td>13.10</td>\n",
       "    </tr>\n",
       "    <tr>\n",
       "      <th>47</th>\n",
       "      <td>48</td>\n",
       "      <td>Gran Turismo 4</td>\n",
       "      <td>PS2</td>\n",
       "      <td>2004</td>\n",
       "      <td>Racing</td>\n",
       "      <td>Sony Computer Entertainment</td>\n",
       "      <td>3.01</td>\n",
       "      <td>0.01</td>\n",
       "      <td>1.10</td>\n",
       "      <td>7.53</td>\n",
       "      <td>11.66</td>\n",
       "    </tr>\n",
       "    <tr>\n",
       "      <th>...</th>\n",
       "      <td>...</td>\n",
       "      <td>...</td>\n",
       "      <td>...</td>\n",
       "      <td>...</td>\n",
       "      <td>...</td>\n",
       "      <td>...</td>\n",
       "      <td>...</td>\n",
       "      <td>...</td>\n",
       "      <td>...</td>\n",
       "      <td>...</td>\n",
       "      <td>...</td>\n",
       "    </tr>\n",
       "    <tr>\n",
       "      <th>16559</th>\n",
       "      <td>16562</td>\n",
       "      <td>Sugar + Spice! Anoko no Suteki na Nanimokamo</td>\n",
       "      <td>PS2</td>\n",
       "      <td>2008</td>\n",
       "      <td>Adventure</td>\n",
       "      <td>Alchemist</td>\n",
       "      <td>0.00</td>\n",
       "      <td>0.00</td>\n",
       "      <td>0.01</td>\n",
       "      <td>0.00</td>\n",
       "      <td>0.01</td>\n",
       "    </tr>\n",
       "    <tr>\n",
       "      <th>16561</th>\n",
       "      <td>16564</td>\n",
       "      <td>Kanokon: Esuii</td>\n",
       "      <td>PS2</td>\n",
       "      <td>2008</td>\n",
       "      <td>Adventure</td>\n",
       "      <td>5pb</td>\n",
       "      <td>0.00</td>\n",
       "      <td>0.00</td>\n",
       "      <td>0.01</td>\n",
       "      <td>0.00</td>\n",
       "      <td>0.01</td>\n",
       "    </tr>\n",
       "    <tr>\n",
       "      <th>16572</th>\n",
       "      <td>16575</td>\n",
       "      <td>Scarlett: Nichijou no Kyoukaisen</td>\n",
       "      <td>PS2</td>\n",
       "      <td>2008</td>\n",
       "      <td>Adventure</td>\n",
       "      <td>Kadokawa Shoten</td>\n",
       "      <td>0.00</td>\n",
       "      <td>0.00</td>\n",
       "      <td>0.01</td>\n",
       "      <td>0.00</td>\n",
       "      <td>0.01</td>\n",
       "    </tr>\n",
       "    <tr>\n",
       "      <th>16580</th>\n",
       "      <td>16583</td>\n",
       "      <td>Real Rode</td>\n",
       "      <td>PS2</td>\n",
       "      <td>2008</td>\n",
       "      <td>Adventure</td>\n",
       "      <td>Kadokawa Shoten</td>\n",
       "      <td>0.00</td>\n",
       "      <td>0.00</td>\n",
       "      <td>0.01</td>\n",
       "      <td>0.00</td>\n",
       "      <td>0.01</td>\n",
       "    </tr>\n",
       "    <tr>\n",
       "      <th>16595</th>\n",
       "      <td>16598</td>\n",
       "      <td>SCORE International Baja 1000: The Official Game</td>\n",
       "      <td>PS2</td>\n",
       "      <td>2008</td>\n",
       "      <td>Racing</td>\n",
       "      <td>Activision</td>\n",
       "      <td>0.00</td>\n",
       "      <td>0.00</td>\n",
       "      <td>0.00</td>\n",
       "      <td>0.00</td>\n",
       "      <td>0.01</td>\n",
       "    </tr>\n",
       "  </tbody>\n",
       "</table>\n",
       "<p>2127 rows × 11 columns</p>\n",
       "</div>"
      ],
      "text/plain": [
       "        Rank                                              Name Platform  Year  \\\n",
       "17        18                     Grand Theft Auto: San Andreas      PS2  2004   \n",
       "24        25                       Grand Theft Auto: Vice City      PS2  2002   \n",
       "28        29                            Gran Turismo 3: A-Spec      PS2  2001   \n",
       "38        39                              Grand Theft Auto III      PS2  2001   \n",
       "47        48                                    Gran Turismo 4      PS2  2004   \n",
       "...      ...                                               ...      ...   ...   \n",
       "16559  16562      Sugar + Spice! Anoko no Suteki na Nanimokamo      PS2  2008   \n",
       "16561  16564                                    Kanokon: Esuii      PS2  2008   \n",
       "16572  16575                  Scarlett: Nichijou no Kyoukaisen      PS2  2008   \n",
       "16580  16583                                         Real Rode      PS2  2008   \n",
       "16595  16598  SCORE International Baja 1000: The Official Game      PS2  2008   \n",
       "\n",
       "           Genre                    Publisher  North_America_sales  \\\n",
       "17        Action         Take-Two Interactive                 9.43   \n",
       "24        Action         Take-Two Interactive                 8.41   \n",
       "28        Racing  Sony Computer Entertainment                 6.85   \n",
       "38        Action         Take-Two Interactive                 6.99   \n",
       "47        Racing  Sony Computer Entertainment                 3.01   \n",
       "...          ...                          ...                  ...   \n",
       "16559  Adventure                    Alchemist                 0.00   \n",
       "16561  Adventure                          5pb                 0.00   \n",
       "16572  Adventure              Kadokawa Shoten                 0.00   \n",
       "16580  Adventure              Kadokawa Shoten                 0.00   \n",
       "16595     Racing                   Activision                 0.00   \n",
       "\n",
       "       Europe_Sales  Japan_sales  Other_Sales  Global_Sales  \n",
       "17             0.40         0.41        10.57         20.81  \n",
       "24             5.49         0.47         1.78         16.15  \n",
       "28             5.09         1.87         1.16         14.98  \n",
       "38             4.51         0.30         1.30         13.10  \n",
       "47             0.01         1.10         7.53         11.66  \n",
       "...             ...          ...          ...           ...  \n",
       "16559          0.00         0.01         0.00          0.01  \n",
       "16561          0.00         0.01         0.00          0.01  \n",
       "16572          0.00         0.01         0.00          0.01  \n",
       "16580          0.00         0.01         0.00          0.01  \n",
       "16595          0.00         0.00         0.00          0.01  \n",
       "\n",
       "[2127 rows x 11 columns]"
      ]
     },
     "execution_count": 24,
     "metadata": {},
     "output_type": "execute_result"
    }
   ],
   "source": [
    "ps2 = df.query(\"Platform == 'PS2'\")\n",
    "\n",
    "ps2.sort_values(by='Global_Sales', ascending=False)\n",
    "ps2"
   ]
  },
  {
   "cell_type": "markdown",
   "id": "66acb7c4",
   "metadata": {
    "papermill": {
     "duration": 0.055818,
     "end_time": "2022-04-24T12:15:39.571361",
     "exception": false,
     "start_time": "2022-04-24T12:15:39.515543",
     "status": "completed"
    },
    "tags": []
   },
   "source": [
    "which year had the highest global sales "
   ]
  },
  {
   "cell_type": "code",
   "execution_count": 25,
   "id": "6dc9521f",
   "metadata": {
    "execution": {
     "iopub.execute_input": "2022-04-24T12:15:39.684502Z",
     "iopub.status.busy": "2022-04-24T12:15:39.684027Z",
     "iopub.status.idle": "2022-04-24T12:15:41.554167Z",
     "shell.execute_reply": "2022-04-24T12:15:41.553386Z"
    },
    "papermill": {
     "duration": 1.929818,
     "end_time": "2022-04-24T12:15:41.556469",
     "exception": false,
     "start_time": "2022-04-24T12:15:39.626651",
     "status": "completed"
    },
    "tags": []
   },
   "outputs": [
    {
     "data": {
      "image/png": "[encoded data removed]",
      "text/plain": [
       "<Figure size 1080x576 with 1 Axes>"
      ]
     },
     "metadata": {
      "needs_background": "light"
     },
     "output_type": "display_data"
    }
   ],
   "source": [
    "plot.figure(figsize=(15,8))\n",
    "sns.barplot(data=df, x='Year', y='Global_Sales')\n",
    "plot.xticks(rotation = 45);"
   ]
  },
  {
   "cell_type": "code",
   "execution_count": 26,
   "id": "d66a18aa",
   "metadata": {
    "execution": {
     "iopub.execute_input": "2022-04-24T12:15:41.671604Z",
     "iopub.status.busy": "2022-04-24T12:15:41.671321Z",
     "iopub.status.idle": "2022-04-24T12:15:42.314221Z",
     "shell.execute_reply": "2022-04-24T12:15:42.313429Z"
    },
    "papermill": {
     "duration": 0.702937,
     "end_time": "2022-04-24T12:15:42.316434",
     "exception": false,
     "start_time": "2022-04-24T12:15:41.613497",
     "status": "completed"
    },
    "tags": []
   },
   "outputs": [
    {
     "data": {
      "text/plain": [
       "<AxesSubplot:xlabel='Genre', ylabel='Global_Sales'>"
      ]
     },
     "execution_count": 26,
     "metadata": {},
     "output_type": "execute_result"
    },
    {
     "data": {
      "image/png": "[encoded data removed]",
      "text/plain": [
       "<Figure size 1080x576 with 1 Axes>"
      ]
     },
     "metadata": {
      "needs_background": "light"
     },
     "output_type": "display_data"
    }
   ],
   "source": [
    "plot.figure(figsize=(15,8))\n",
    "sns.barplot(data=ps2, x='Genre', y='Global_Sales')"
   ]
  },
  {
   "cell_type": "markdown",
   "id": "0c9733a1",
   "metadata": {
    "papermill": {
     "duration": 0.056049,
     "end_time": "2022-04-24T12:15:42.430063",
     "exception": false,
     "start_time": "2022-04-24T12:15:42.374014",
     "status": "completed"
    },
    "tags": []
   },
   "source": [
    "For the PS2 the most popular genre was action games followed quite closely by racing games."
   ]
  },
  {
   "cell_type": "code",
   "execution_count": 27,
   "id": "b7096964",
   "metadata": {
    "execution": {
     "iopub.execute_input": "2022-04-24T12:15:42.544822Z",
     "iopub.status.busy": "2022-04-24T12:15:42.544281Z",
     "iopub.status.idle": "2022-04-24T12:15:42.571476Z",
     "shell.execute_reply": "2022-04-24T12:15:42.570757Z"
    },
    "papermill": {
     "duration": 0.08658,
     "end_time": "2022-04-24T12:15:42.573710",
     "exception": false,
     "start_time": "2022-04-24T12:15:42.487130",
     "status": "completed"
    },
    "tags": []
   },
   "outputs": [
    {
     "data": {
      "text/html": [
       "<div>\n",
       "<style scoped>\n",
       "    .dataframe tbody tr th:only-of-type {\n",
       "        vertical-align: middle;\n",
       "    }\n",
       "\n",
       "    .dataframe tbody tr th {\n",
       "        vertical-align: top;\n",
       "    }\n",
       "\n",
       "    .dataframe thead th {\n",
       "        text-align: right;\n",
       "    }\n",
       "</style>\n",
       "<table border=\"1\" class=\"dataframe\">\n",
       "  <thead>\n",
       "    <tr style=\"text-align: right;\">\n",
       "      <th></th>\n",
       "      <th>Rank</th>\n",
       "      <th>Name</th>\n",
       "      <th>Platform</th>\n",
       "      <th>Year</th>\n",
       "      <th>Genre</th>\n",
       "      <th>Publisher</th>\n",
       "      <th>North_America_sales</th>\n",
       "      <th>Europe_Sales</th>\n",
       "      <th>Japan_sales</th>\n",
       "      <th>Other_Sales</th>\n",
       "      <th>Global_Sales</th>\n",
       "    </tr>\n",
       "  </thead>\n",
       "  <tbody>\n",
       "    <tr>\n",
       "      <th>15</th>\n",
       "      <td>16</td>\n",
       "      <td>Kinect Adventures!</td>\n",
       "      <td>X360</td>\n",
       "      <td>2010</td>\n",
       "      <td>Misc</td>\n",
       "      <td>Microsoft Game Studios</td>\n",
       "      <td>14.97</td>\n",
       "      <td>4.94</td>\n",
       "      <td>0.24</td>\n",
       "      <td>1.67</td>\n",
       "      <td>21.82</td>\n",
       "    </tr>\n",
       "    <tr>\n",
       "      <th>23</th>\n",
       "      <td>24</td>\n",
       "      <td>Grand Theft Auto V</td>\n",
       "      <td>X360</td>\n",
       "      <td>2013</td>\n",
       "      <td>Action</td>\n",
       "      <td>Take-Two Interactive</td>\n",
       "      <td>9.63</td>\n",
       "      <td>5.31</td>\n",
       "      <td>0.06</td>\n",
       "      <td>1.38</td>\n",
       "      <td>16.38</td>\n",
       "    </tr>\n",
       "    <tr>\n",
       "      <th>29</th>\n",
       "      <td>30</td>\n",
       "      <td>Call of Duty: Modern Warfare 3</td>\n",
       "      <td>X360</td>\n",
       "      <td>2011</td>\n",
       "      <td>Shooter</td>\n",
       "      <td>Activision</td>\n",
       "      <td>9.03</td>\n",
       "      <td>4.28</td>\n",
       "      <td>0.13</td>\n",
       "      <td>1.32</td>\n",
       "      <td>14.76</td>\n",
       "    </tr>\n",
       "    <tr>\n",
       "      <th>31</th>\n",
       "      <td>32</td>\n",
       "      <td>Call of Duty: Black Ops</td>\n",
       "      <td>X360</td>\n",
       "      <td>2010</td>\n",
       "      <td>Shooter</td>\n",
       "      <td>Activision</td>\n",
       "      <td>9.67</td>\n",
       "      <td>3.73</td>\n",
       "      <td>0.11</td>\n",
       "      <td>1.13</td>\n",
       "      <td>14.64</td>\n",
       "    </tr>\n",
       "    <tr>\n",
       "      <th>35</th>\n",
       "      <td>36</td>\n",
       "      <td>Call of Duty: Black Ops II</td>\n",
       "      <td>X360</td>\n",
       "      <td>2012</td>\n",
       "      <td>Shooter</td>\n",
       "      <td>Activision</td>\n",
       "      <td>8.25</td>\n",
       "      <td>4.30</td>\n",
       "      <td>0.07</td>\n",
       "      <td>1.12</td>\n",
       "      <td>13.73</td>\n",
       "    </tr>\n",
       "    <tr>\n",
       "      <th>...</th>\n",
       "      <td>...</td>\n",
       "      <td>...</td>\n",
       "      <td>...</td>\n",
       "      <td>...</td>\n",
       "      <td>...</td>\n",
       "      <td>...</td>\n",
       "      <td>...</td>\n",
       "      <td>...</td>\n",
       "      <td>...</td>\n",
       "      <td>...</td>\n",
       "      <td>...</td>\n",
       "    </tr>\n",
       "    <tr>\n",
       "      <th>16053</th>\n",
       "      <td>16056</td>\n",
       "      <td>Banjo-Kazooie</td>\n",
       "      <td>X360</td>\n",
       "      <td>2008</td>\n",
       "      <td>Platform</td>\n",
       "      <td>Microsoft Game Studios</td>\n",
       "      <td>0.00</td>\n",
       "      <td>0.01</td>\n",
       "      <td>0.00</td>\n",
       "      <td>0.00</td>\n",
       "      <td>0.01</td>\n",
       "    </tr>\n",
       "    <tr>\n",
       "      <th>16044</th>\n",
       "      <td>16047</td>\n",
       "      <td>Instant Brain</td>\n",
       "      <td>X360</td>\n",
       "      <td>2011</td>\n",
       "      <td>Adventure</td>\n",
       "      <td>Cave</td>\n",
       "      <td>0.00</td>\n",
       "      <td>0.00</td>\n",
       "      <td>0.01</td>\n",
       "      <td>0.00</td>\n",
       "      <td>0.01</td>\n",
       "    </tr>\n",
       "    <tr>\n",
       "      <th>16011</th>\n",
       "      <td>16014</td>\n",
       "      <td>Tom Clancy's  Ghost Recon Advanced Warfighter ...</td>\n",
       "      <td>X360</td>\n",
       "      <td>2006</td>\n",
       "      <td>Shooter</td>\n",
       "      <td>Ubisoft</td>\n",
       "      <td>0.00</td>\n",
       "      <td>0.00</td>\n",
       "      <td>0.01</td>\n",
       "      <td>0.00</td>\n",
       "      <td>0.01</td>\n",
       "    </tr>\n",
       "    <tr>\n",
       "      <th>15988</th>\n",
       "      <td>15991</td>\n",
       "      <td>Don Bradman Cricket 14</td>\n",
       "      <td>X360</td>\n",
       "      <td>2014</td>\n",
       "      <td>Sports</td>\n",
       "      <td>Tru Blu Entertainment</td>\n",
       "      <td>0.00</td>\n",
       "      <td>0.01</td>\n",
       "      <td>0.00</td>\n",
       "      <td>0.00</td>\n",
       "      <td>0.01</td>\n",
       "    </tr>\n",
       "    <tr>\n",
       "      <th>16533</th>\n",
       "      <td>16536</td>\n",
       "      <td>Metal Gear Solid HD Edition</td>\n",
       "      <td>X360</td>\n",
       "      <td>2011</td>\n",
       "      <td>Action</td>\n",
       "      <td>Konami Digital Entertainment</td>\n",
       "      <td>0.00</td>\n",
       "      <td>0.00</td>\n",
       "      <td>0.01</td>\n",
       "      <td>0.00</td>\n",
       "      <td>0.01</td>\n",
       "    </tr>\n",
       "  </tbody>\n",
       "</table>\n",
       "<p>1234 rows × 11 columns</p>\n",
       "</div>"
      ],
      "text/plain": [
       "        Rank                                               Name Platform  \\\n",
       "15        16                                 Kinect Adventures!     X360   \n",
       "23        24                                 Grand Theft Auto V     X360   \n",
       "29        30                     Call of Duty: Modern Warfare 3     X360   \n",
       "31        32                            Call of Duty: Black Ops     X360   \n",
       "35        36                         Call of Duty: Black Ops II     X360   \n",
       "...      ...                                                ...      ...   \n",
       "16053  16056                                      Banjo-Kazooie     X360   \n",
       "16044  16047                                      Instant Brain     X360   \n",
       "16011  16014  Tom Clancy's  Ghost Recon Advanced Warfighter ...     X360   \n",
       "15988  15991                             Don Bradman Cricket 14     X360   \n",
       "16533  16536                        Metal Gear Solid HD Edition     X360   \n",
       "\n",
       "       Year      Genre                     Publisher  North_America_sales  \\\n",
       "15     2010       Misc        Microsoft Game Studios                14.97   \n",
       "23     2013     Action          Take-Two Interactive                 9.63   \n",
       "29     2011    Shooter                    Activision                 9.03   \n",
       "31     2010    Shooter                    Activision                 9.67   \n",
       "35     2012    Shooter                    Activision                 8.25   \n",
       "...     ...        ...                           ...                  ...   \n",
       "16053  2008   Platform        Microsoft Game Studios                 0.00   \n",
       "16044  2011  Adventure                          Cave                 0.00   \n",
       "16011  2006    Shooter                       Ubisoft                 0.00   \n",
       "15988  2014     Sports         Tru Blu Entertainment                 0.00   \n",
       "16533  2011     Action  Konami Digital Entertainment                 0.00   \n",
       "\n",
       "       Europe_Sales  Japan_sales  Other_Sales  Global_Sales  \n",
       "15             4.94         0.24         1.67         21.82  \n",
       "23             5.31         0.06         1.38         16.38  \n",
       "29             4.28         0.13         1.32         14.76  \n",
       "31             3.73         0.11         1.13         14.64  \n",
       "35             4.30         0.07         1.12         13.73  \n",
       "...             ...          ...          ...           ...  \n",
       "16053          0.01         0.00         0.00          0.01  \n",
       "16044          0.00         0.01         0.00          0.01  \n",
       "16011          0.00         0.01         0.00          0.01  \n",
       "15988          0.01         0.00         0.00          0.01  \n",
       "16533          0.00         0.01         0.00          0.01  \n",
       "\n",
       "[1234 rows x 11 columns]"
      ]
     },
     "execution_count": 27,
     "metadata": {},
     "output_type": "execute_result"
    }
   ],
   "source": [
    "xbox360 = df.query(\"Platform == 'X360'\")\n",
    "\n",
    "xbox360.sort_values(by='Global_Sales', ascending=False)\n"
   ]
  },
  {
   "cell_type": "code",
   "execution_count": 28,
   "id": "9879c810",
   "metadata": {
    "execution": {
     "iopub.execute_input": "2022-04-24T12:15:42.691983Z",
     "iopub.status.busy": "2022-04-24T12:15:42.691371Z",
     "iopub.status.idle": "2022-04-24T12:15:43.364699Z",
     "shell.execute_reply": "2022-04-24T12:15:43.363840Z"
    },
    "papermill": {
     "duration": 0.735216,
     "end_time": "2022-04-24T12:15:43.366827",
     "exception": false,
     "start_time": "2022-04-24T12:15:42.631611",
     "status": "completed"
    },
    "tags": []
   },
   "outputs": [
    {
     "data": {
      "text/plain": [
       "<AxesSubplot:xlabel='Genre', ylabel='Global_Sales'>"
      ]
     },
     "execution_count": 28,
     "metadata": {},
     "output_type": "execute_result"
    },
    {
     "data": {
      "image/png": "[encoded data removed]",
      "text/plain": [
       "<Figure size 1080x576 with 1 Axes>"
      ]
     },
     "metadata": {
      "needs_background": "light"
     },
     "output_type": "display_data"
    }
   ],
   "source": [
    "plot.figure(figsize=(15,8))\n",
    "sns.barplot(data=xbox360, x='Genre', y='Global_Sales')"
   ]
  },
  {
   "cell_type": "markdown",
   "id": "2f6a790f",
   "metadata": {
    "papermill": {
     "duration": 0.0597,
     "end_time": "2022-04-24T12:15:43.486505",
     "exception": false,
     "start_time": "2022-04-24T12:15:43.426805",
     "status": "completed"
    },
    "tags": []
   },
   "source": [
    "For the Xbox360 the most popular genre was shooter, then role playing, then action and then only racing.  For the Xbox360 racing is thus not such a popular genre"
   ]
  },
  {
   "cell_type": "code",
   "execution_count": 29,
   "id": "88a86ea9",
   "metadata": {
    "execution": {
     "iopub.execute_input": "2022-04-24T12:15:43.608448Z",
     "iopub.status.busy": "2022-04-24T12:15:43.607594Z",
     "iopub.status.idle": "2022-04-24T12:15:43.633793Z",
     "shell.execute_reply": "2022-04-24T12:15:43.633217Z"
    },
    "papermill": {
     "duration": 0.089398,
     "end_time": "2022-04-24T12:15:43.635585",
     "exception": false,
     "start_time": "2022-04-24T12:15:43.546187",
     "status": "completed"
    },
    "tags": []
   },
   "outputs": [
    {
     "data": {
      "text/html": [
       "<div>\n",
       "<style scoped>\n",
       "    .dataframe tbody tr th:only-of-type {\n",
       "        vertical-align: middle;\n",
       "    }\n",
       "\n",
       "    .dataframe tbody tr th {\n",
       "        vertical-align: top;\n",
       "    }\n",
       "\n",
       "    .dataframe thead th {\n",
       "        text-align: right;\n",
       "    }\n",
       "</style>\n",
       "<table border=\"1\" class=\"dataframe\">\n",
       "  <thead>\n",
       "    <tr style=\"text-align: right;\">\n",
       "      <th></th>\n",
       "      <th>Rank</th>\n",
       "      <th>Name</th>\n",
       "      <th>Platform</th>\n",
       "      <th>Year</th>\n",
       "      <th>Genre</th>\n",
       "      <th>Publisher</th>\n",
       "      <th>North_America_sales</th>\n",
       "      <th>Europe_Sales</th>\n",
       "      <th>Japan_sales</th>\n",
       "      <th>Other_Sales</th>\n",
       "      <th>Global_Sales</th>\n",
       "    </tr>\n",
       "  </thead>\n",
       "  <tbody>\n",
       "    <tr>\n",
       "      <th>16</th>\n",
       "      <td>17</td>\n",
       "      <td>Grand Theft Auto V</td>\n",
       "      <td>PS3</td>\n",
       "      <td>2013</td>\n",
       "      <td>Action</td>\n",
       "      <td>Take-Two Interactive</td>\n",
       "      <td>7.01</td>\n",
       "      <td>9.27</td>\n",
       "      <td>0.97</td>\n",
       "      <td>4.14</td>\n",
       "      <td>21.40</td>\n",
       "    </tr>\n",
       "    <tr>\n",
       "      <th>34</th>\n",
       "      <td>35</td>\n",
       "      <td>Call of Duty: Black Ops II</td>\n",
       "      <td>PS3</td>\n",
       "      <td>2012</td>\n",
       "      <td>Shooter</td>\n",
       "      <td>Activision</td>\n",
       "      <td>4.99</td>\n",
       "      <td>5.88</td>\n",
       "      <td>0.65</td>\n",
       "      <td>2.52</td>\n",
       "      <td>14.03</td>\n",
       "    </tr>\n",
       "    <tr>\n",
       "      <th>37</th>\n",
       "      <td>38</td>\n",
       "      <td>Call of Duty: Modern Warfare 3</td>\n",
       "      <td>PS3</td>\n",
       "      <td>2011</td>\n",
       "      <td>Shooter</td>\n",
       "      <td>Activision</td>\n",
       "      <td>5.54</td>\n",
       "      <td>5.82</td>\n",
       "      <td>0.49</td>\n",
       "      <td>1.62</td>\n",
       "      <td>13.46</td>\n",
       "    </tr>\n",
       "    <tr>\n",
       "      <th>40</th>\n",
       "      <td>41</td>\n",
       "      <td>Call of Duty: Black Ops</td>\n",
       "      <td>PS3</td>\n",
       "      <td>2010</td>\n",
       "      <td>Shooter</td>\n",
       "      <td>Activision</td>\n",
       "      <td>5.98</td>\n",
       "      <td>4.44</td>\n",
       "      <td>0.48</td>\n",
       "      <td>1.83</td>\n",
       "      <td>12.73</td>\n",
       "    </tr>\n",
       "    <tr>\n",
       "      <th>54</th>\n",
       "      <td>55</td>\n",
       "      <td>Gran Turismo 5</td>\n",
       "      <td>PS3</td>\n",
       "      <td>2010</td>\n",
       "      <td>Racing</td>\n",
       "      <td>Sony Computer Entertainment</td>\n",
       "      <td>2.96</td>\n",
       "      <td>4.88</td>\n",
       "      <td>0.81</td>\n",
       "      <td>2.12</td>\n",
       "      <td>10.77</td>\n",
       "    </tr>\n",
       "    <tr>\n",
       "      <th>...</th>\n",
       "      <td>...</td>\n",
       "      <td>...</td>\n",
       "      <td>...</td>\n",
       "      <td>...</td>\n",
       "      <td>...</td>\n",
       "      <td>...</td>\n",
       "      <td>...</td>\n",
       "      <td>...</td>\n",
       "      <td>...</td>\n",
       "      <td>...</td>\n",
       "      <td>...</td>\n",
       "    </tr>\n",
       "    <tr>\n",
       "      <th>16084</th>\n",
       "      <td>16087</td>\n",
       "      <td>The Legend of Heroes: Trails in the Sky Third ...</td>\n",
       "      <td>PS3</td>\n",
       "      <td>2013</td>\n",
       "      <td>Role-Playing</td>\n",
       "      <td>Falcom Corporation</td>\n",
       "      <td>0.00</td>\n",
       "      <td>0.00</td>\n",
       "      <td>0.01</td>\n",
       "      <td>0.00</td>\n",
       "      <td>0.01</td>\n",
       "    </tr>\n",
       "    <tr>\n",
       "      <th>16081</th>\n",
       "      <td>16084</td>\n",
       "      <td>Pro Angler Moves</td>\n",
       "      <td>PS3</td>\n",
       "      <td>2012</td>\n",
       "      <td>Sports</td>\n",
       "      <td>Interworks Unlimited, Inc.</td>\n",
       "      <td>0.01</td>\n",
       "      <td>0.00</td>\n",
       "      <td>0.00</td>\n",
       "      <td>0.00</td>\n",
       "      <td>0.01</td>\n",
       "    </tr>\n",
       "    <tr>\n",
       "      <th>16036</th>\n",
       "      <td>16039</td>\n",
       "      <td>Utawarerumono: Futari no Hakuoro</td>\n",
       "      <td>PS3</td>\n",
       "      <td>2016</td>\n",
       "      <td>Misc</td>\n",
       "      <td>Aqua Plus</td>\n",
       "      <td>0.00</td>\n",
       "      <td>0.00</td>\n",
       "      <td>0.01</td>\n",
       "      <td>0.00</td>\n",
       "      <td>0.01</td>\n",
       "    </tr>\n",
       "    <tr>\n",
       "      <th>16014</th>\n",
       "      <td>16017</td>\n",
       "      <td>Nobunaga no Yabou Online: Houou no Shou</td>\n",
       "      <td>PS3</td>\n",
       "      <td>2012</td>\n",
       "      <td>Strategy</td>\n",
       "      <td>Ackkstudios</td>\n",
       "      <td>0.00</td>\n",
       "      <td>0.00</td>\n",
       "      <td>0.01</td>\n",
       "      <td>0.00</td>\n",
       "      <td>0.01</td>\n",
       "    </tr>\n",
       "    <tr>\n",
       "      <th>16541</th>\n",
       "      <td>16544</td>\n",
       "      <td>Battle Fantasia</td>\n",
       "      <td>PS3</td>\n",
       "      <td>2008</td>\n",
       "      <td>Fighting</td>\n",
       "      <td>505 Games</td>\n",
       "      <td>0.00</td>\n",
       "      <td>0.00</td>\n",
       "      <td>0.01</td>\n",
       "      <td>0.00</td>\n",
       "      <td>0.01</td>\n",
       "    </tr>\n",
       "  </tbody>\n",
       "</table>\n",
       "<p>1304 rows × 11 columns</p>\n",
       "</div>"
      ],
      "text/plain": [
       "        Rank                                               Name Platform  \\\n",
       "16        17                                 Grand Theft Auto V      PS3   \n",
       "34        35                         Call of Duty: Black Ops II      PS3   \n",
       "37        38                     Call of Duty: Modern Warfare 3      PS3   \n",
       "40        41                            Call of Duty: Black Ops      PS3   \n",
       "54        55                                     Gran Turismo 5      PS3   \n",
       "...      ...                                                ...      ...   \n",
       "16084  16087  The Legend of Heroes: Trails in the Sky Third ...      PS3   \n",
       "16081  16084                                   Pro Angler Moves      PS3   \n",
       "16036  16039                   Utawarerumono: Futari no Hakuoro      PS3   \n",
       "16014  16017            Nobunaga no Yabou Online: Houou no Shou      PS3   \n",
       "16541  16544                                    Battle Fantasia      PS3   \n",
       "\n",
       "       Year         Genre                    Publisher  North_America_sales  \\\n",
       "16     2013        Action         Take-Two Interactive                 7.01   \n",
       "34     2012       Shooter                   Activision                 4.99   \n",
       "37     2011       Shooter                   Activision                 5.54   \n",
       "40     2010       Shooter                   Activision                 5.98   \n",
       "54     2010        Racing  Sony Computer Entertainment                 2.96   \n",
       "...     ...           ...                          ...                  ...   \n",
       "16084  2013  Role-Playing           Falcom Corporation                 0.00   \n",
       "16081  2012        Sports   Interworks Unlimited, Inc.                 0.01   \n",
       "16036  2016          Misc                    Aqua Plus                 0.00   \n",
       "16014  2012      Strategy                  Ackkstudios                 0.00   \n",
       "16541  2008      Fighting                    505 Games                 0.00   \n",
       "\n",
       "       Europe_Sales  Japan_sales  Other_Sales  Global_Sales  \n",
       "16             9.27         0.97         4.14         21.40  \n",
       "34             5.88         0.65         2.52         14.03  \n",
       "37             5.82         0.49         1.62         13.46  \n",
       "40             4.44         0.48         1.83         12.73  \n",
       "54             4.88         0.81         2.12         10.77  \n",
       "...             ...          ...          ...           ...  \n",
       "16084          0.00         0.01         0.00          0.01  \n",
       "16081          0.00         0.00         0.00          0.01  \n",
       "16036          0.00         0.01         0.00          0.01  \n",
       "16014          0.00         0.01         0.00          0.01  \n",
       "16541          0.00         0.01         0.00          0.01  \n",
       "\n",
       "[1304 rows x 11 columns]"
      ]
     },
     "execution_count": 29,
     "metadata": {},
     "output_type": "execute_result"
    }
   ],
   "source": [
    "ps3 = df.query(\"Platform == 'PS3'\")\n",
    "\n",
    "ps3.sort_values(by='Global_Sales', ascending=False)"
   ]
  },
  {
   "cell_type": "code",
   "execution_count": 30,
   "id": "b4db2850",
   "metadata": {
    "execution": {
     "iopub.execute_input": "2022-04-24T12:15:43.759616Z",
     "iopub.status.busy": "2022-04-24T12:15:43.758994Z",
     "iopub.status.idle": "2022-04-24T12:15:44.421357Z",
     "shell.execute_reply": "2022-04-24T12:15:44.420749Z"
    },
    "papermill": {
     "duration": 0.725561,
     "end_time": "2022-04-24T12:15:44.423100",
     "exception": false,
     "start_time": "2022-04-24T12:15:43.697539",
     "status": "completed"
    },
    "tags": []
   },
   "outputs": [
    {
     "data": {
      "text/plain": [
       "<AxesSubplot:xlabel='Genre', ylabel='Global_Sales'>"
      ]
     },
     "execution_count": 30,
     "metadata": {},
     "output_type": "execute_result"
    },
    {
     "data": {
      "image/png": "[encoded data removed]",
      "text/plain": [
       "<Figure size 1080x576 with 1 Axes>"
      ]
     },
     "metadata": {
      "needs_background": "light"
     },
     "output_type": "display_data"
    }
   ],
   "source": [
    "plot.figure(figsize=(15,8))\n",
    "sns.barplot(data=ps3, x='Genre', y='Global_Sales')"
   ]
  },
  {
   "cell_type": "markdown",
   "id": "4d7c90f4",
   "metadata": {
    "papermill": {
     "duration": 0.061544,
     "end_time": "2022-04-24T12:15:44.546598",
     "exception": false,
     "start_time": "2022-04-24T12:15:44.485054",
     "status": "completed"
    },
    "tags": []
   },
   "source": [
    "The Xbox360 and PS3 were both direct competitors for each other.  In terms of the most popular genre on both consoles it seems to be shooter, but racing games are still more popular on the PS3 compared to the Xbox360"
   ]
  },
  {
   "cell_type": "code",
   "execution_count": 31,
   "id": "e36bcf46",
   "metadata": {
    "execution": {
     "iopub.execute_input": "2022-04-24T12:15:44.672575Z",
     "iopub.status.busy": "2022-04-24T12:15:44.671850Z",
     "iopub.status.idle": "2022-04-24T12:15:44.698275Z",
     "shell.execute_reply": "2022-04-24T12:15:44.697737Z"
    },
    "papermill": {
     "duration": 0.091396,
     "end_time": "2022-04-24T12:15:44.700001",
     "exception": false,
     "start_time": "2022-04-24T12:15:44.608605",
     "status": "completed"
    },
    "tags": []
   },
   "outputs": [
    {
     "data": {
      "text/html": [
       "<div>\n",
       "<style scoped>\n",
       "    .dataframe tbody tr th:only-of-type {\n",
       "        vertical-align: middle;\n",
       "    }\n",
       "\n",
       "    .dataframe tbody tr th {\n",
       "        vertical-align: top;\n",
       "    }\n",
       "\n",
       "    .dataframe thead th {\n",
       "        text-align: right;\n",
       "    }\n",
       "</style>\n",
       "<table border=\"1\" class=\"dataframe\">\n",
       "  <thead>\n",
       "    <tr style=\"text-align: right;\">\n",
       "      <th></th>\n",
       "      <th>Rank</th>\n",
       "      <th>Name</th>\n",
       "      <th>Platform</th>\n",
       "      <th>Year</th>\n",
       "      <th>Genre</th>\n",
       "      <th>Publisher</th>\n",
       "      <th>North_America_sales</th>\n",
       "      <th>Europe_Sales</th>\n",
       "      <th>Japan_sales</th>\n",
       "      <th>Other_Sales</th>\n",
       "      <th>Global_Sales</th>\n",
       "    </tr>\n",
       "  </thead>\n",
       "  <tbody>\n",
       "    <tr>\n",
       "      <th>101</th>\n",
       "      <td>102</td>\n",
       "      <td>Call of Duty: Black Ops 3</td>\n",
       "      <td>XOne</td>\n",
       "      <td>2015</td>\n",
       "      <td>Shooter</td>\n",
       "      <td>Activision</td>\n",
       "      <td>4.52</td>\n",
       "      <td>2.09</td>\n",
       "      <td>0.01</td>\n",
       "      <td>0.67</td>\n",
       "      <td>7.30</td>\n",
       "    </tr>\n",
       "    <tr>\n",
       "      <th>193</th>\n",
       "      <td>194</td>\n",
       "      <td>Call of Duty: Advanced Warfare</td>\n",
       "      <td>XOne</td>\n",
       "      <td>2014</td>\n",
       "      <td>Shooter</td>\n",
       "      <td>Activision</td>\n",
       "      <td>3.21</td>\n",
       "      <td>1.53</td>\n",
       "      <td>0.01</td>\n",
       "      <td>0.38</td>\n",
       "      <td>5.13</td>\n",
       "    </tr>\n",
       "    <tr>\n",
       "      <th>197</th>\n",
       "      <td>198</td>\n",
       "      <td>Grand Theft Auto V</td>\n",
       "      <td>XOne</td>\n",
       "      <td>2014</td>\n",
       "      <td>Action</td>\n",
       "      <td>Take-Two Interactive</td>\n",
       "      <td>2.66</td>\n",
       "      <td>2.01</td>\n",
       "      <td>0.00</td>\n",
       "      <td>0.41</td>\n",
       "      <td>5.08</td>\n",
       "    </tr>\n",
       "    <tr>\n",
       "      <th>260</th>\n",
       "      <td>261</td>\n",
       "      <td>Halo 5: Guardians</td>\n",
       "      <td>XOne</td>\n",
       "      <td>2015</td>\n",
       "      <td>Shooter</td>\n",
       "      <td>Microsoft Game Studios</td>\n",
       "      <td>2.64</td>\n",
       "      <td>1.20</td>\n",
       "      <td>0.03</td>\n",
       "      <td>0.39</td>\n",
       "      <td>4.26</td>\n",
       "    </tr>\n",
       "    <tr>\n",
       "      <th>287</th>\n",
       "      <td>288</td>\n",
       "      <td>Fallout 4</td>\n",
       "      <td>XOne</td>\n",
       "      <td>2015</td>\n",
       "      <td>Role-Playing</td>\n",
       "      <td>Bethesda Softworks</td>\n",
       "      <td>2.45</td>\n",
       "      <td>1.26</td>\n",
       "      <td>0.01</td>\n",
       "      <td>0.37</td>\n",
       "      <td>4.09</td>\n",
       "    </tr>\n",
       "    <tr>\n",
       "      <th>...</th>\n",
       "      <td>...</td>\n",
       "      <td>...</td>\n",
       "      <td>...</td>\n",
       "      <td>...</td>\n",
       "      <td>...</td>\n",
       "      <td>...</td>\n",
       "      <td>...</td>\n",
       "      <td>...</td>\n",
       "      <td>...</td>\n",
       "      <td>...</td>\n",
       "      <td>...</td>\n",
       "    </tr>\n",
       "    <tr>\n",
       "      <th>16276</th>\n",
       "      <td>16279</td>\n",
       "      <td>Assetto Corsa</td>\n",
       "      <td>XOne</td>\n",
       "      <td>2016</td>\n",
       "      <td>Racing</td>\n",
       "      <td>505 Games</td>\n",
       "      <td>0.00</td>\n",
       "      <td>0.01</td>\n",
       "      <td>0.00</td>\n",
       "      <td>0.00</td>\n",
       "      <td>0.01</td>\n",
       "    </tr>\n",
       "    <tr>\n",
       "      <th>16234</th>\n",
       "      <td>16237</td>\n",
       "      <td>Broken Sword 5: The Serpent's Curse</td>\n",
       "      <td>XOne</td>\n",
       "      <td>2015</td>\n",
       "      <td>Adventure</td>\n",
       "      <td>Revolution Software</td>\n",
       "      <td>0.00</td>\n",
       "      <td>0.01</td>\n",
       "      <td>0.00</td>\n",
       "      <td>0.00</td>\n",
       "      <td>0.01</td>\n",
       "    </tr>\n",
       "    <tr>\n",
       "      <th>16222</th>\n",
       "      <td>16225</td>\n",
       "      <td>Carmageddon: Max Damage</td>\n",
       "      <td>XOne</td>\n",
       "      <td>2016</td>\n",
       "      <td>Action</td>\n",
       "      <td>Stainless Games</td>\n",
       "      <td>0.01</td>\n",
       "      <td>0.01</td>\n",
       "      <td>0.00</td>\n",
       "      <td>0.00</td>\n",
       "      <td>0.01</td>\n",
       "    </tr>\n",
       "    <tr>\n",
       "      <th>16114</th>\n",
       "      <td>16117</td>\n",
       "      <td>Psycho-Pass</td>\n",
       "      <td>XOne</td>\n",
       "      <td>2014</td>\n",
       "      <td>Adventure</td>\n",
       "      <td>5pb</td>\n",
       "      <td>0.00</td>\n",
       "      <td>0.00</td>\n",
       "      <td>0.01</td>\n",
       "      <td>0.00</td>\n",
       "      <td>0.01</td>\n",
       "    </tr>\n",
       "    <tr>\n",
       "      <th>16576</th>\n",
       "      <td>16579</td>\n",
       "      <td>Rugby Challenge 3</td>\n",
       "      <td>XOne</td>\n",
       "      <td>2016</td>\n",
       "      <td>Sports</td>\n",
       "      <td>Alternative Software</td>\n",
       "      <td>0.00</td>\n",
       "      <td>0.01</td>\n",
       "      <td>0.00</td>\n",
       "      <td>0.00</td>\n",
       "      <td>0.01</td>\n",
       "    </tr>\n",
       "  </tbody>\n",
       "</table>\n",
       "<p>213 rows × 11 columns</p>\n",
       "</div>"
      ],
      "text/plain": [
       "        Rank                                 Name Platform  Year  \\\n",
       "101      102            Call of Duty: Black Ops 3     XOne  2015   \n",
       "193      194       Call of Duty: Advanced Warfare     XOne  2014   \n",
       "197      198                   Grand Theft Auto V     XOne  2014   \n",
       "260      261                    Halo 5: Guardians     XOne  2015   \n",
       "287      288                            Fallout 4     XOne  2015   \n",
       "...      ...                                  ...      ...   ...   \n",
       "16276  16279                        Assetto Corsa     XOne  2016   \n",
       "16234  16237  Broken Sword 5: The Serpent's Curse     XOne  2015   \n",
       "16222  16225              Carmageddon: Max Damage     XOne  2016   \n",
       "16114  16117                          Psycho-Pass     XOne  2014   \n",
       "16576  16579                    Rugby Challenge 3     XOne  2016   \n",
       "\n",
       "              Genre               Publisher  North_America_sales  \\\n",
       "101         Shooter              Activision                 4.52   \n",
       "193         Shooter              Activision                 3.21   \n",
       "197          Action    Take-Two Interactive                 2.66   \n",
       "260         Shooter  Microsoft Game Studios                 2.64   \n",
       "287    Role-Playing      Bethesda Softworks                 2.45   \n",
       "...             ...                     ...                  ...   \n",
       "16276        Racing               505 Games                 0.00   \n",
       "16234     Adventure     Revolution Software                 0.00   \n",
       "16222        Action         Stainless Games                 0.01   \n",
       "16114     Adventure                     5pb                 0.00   \n",
       "16576        Sports    Alternative Software                 0.00   \n",
       "\n",
       "       Europe_Sales  Japan_sales  Other_Sales  Global_Sales  \n",
       "101            2.09         0.01         0.67          7.30  \n",
       "193            1.53         0.01         0.38          5.13  \n",
       "197            2.01         0.00         0.41          5.08  \n",
       "260            1.20         0.03         0.39          4.26  \n",
       "287            1.26         0.01         0.37          4.09  \n",
       "...             ...          ...          ...           ...  \n",
       "16276          0.01         0.00         0.00          0.01  \n",
       "16234          0.01         0.00         0.00          0.01  \n",
       "16222          0.01         0.00         0.00          0.01  \n",
       "16114          0.00         0.01         0.00          0.01  \n",
       "16576          0.01         0.00         0.00          0.01  \n",
       "\n",
       "[213 rows x 11 columns]"
      ]
     },
     "execution_count": 31,
     "metadata": {},
     "output_type": "execute_result"
    }
   ],
   "source": [
    "xone = df.query(\"Platform == 'XOne'\")\n",
    "\n",
    "xone.sort_values(by='Global_Sales', ascending=False)"
   ]
  },
  {
   "cell_type": "code",
   "execution_count": 32,
   "id": "2ca16859",
   "metadata": {
    "execution": {
     "iopub.execute_input": "2022-04-24T12:15:44.826176Z",
     "iopub.status.busy": "2022-04-24T12:15:44.825702Z",
     "iopub.status.idle": "2022-04-24T12:15:45.414152Z",
     "shell.execute_reply": "2022-04-24T12:15:45.413204Z"
    },
    "papermill": {
     "duration": 0.654297,
     "end_time": "2022-04-24T12:15:45.416506",
     "exception": false,
     "start_time": "2022-04-24T12:15:44.762209",
     "status": "completed"
    },
    "tags": []
   },
   "outputs": [
    {
     "data": {
      "text/plain": [
       "<AxesSubplot:xlabel='Genre', ylabel='Global_Sales'>"
      ]
     },
     "execution_count": 32,
     "metadata": {},
     "output_type": "execute_result"
    },
    {
     "data": {
      "image/png": "[encoded data removed]",
      "text/plain": [
       "<Figure size 1080x576 with 1 Axes>"
      ]
     },
     "metadata": {
      "needs_background": "light"
     },
     "output_type": "display_data"
    }
   ],
   "source": [
    "plot.figure(figsize=(15,8))\n",
    "sns.barplot(data=xone, x='Genre', y='Global_Sales')"
   ]
  },
  {
   "cell_type": "code",
   "execution_count": 33,
   "id": "76cc182a",
   "metadata": {
    "execution": {
     "iopub.execute_input": "2022-04-24T12:15:45.547811Z",
     "iopub.status.busy": "2022-04-24T12:15:45.547524Z",
     "iopub.status.idle": "2022-04-24T12:15:45.573279Z",
     "shell.execute_reply": "2022-04-24T12:15:45.572689Z"
    },
    "papermill": {
     "duration": 0.093791,
     "end_time": "2022-04-24T12:15:45.575154",
     "exception": false,
     "start_time": "2022-04-24T12:15:45.481363",
     "status": "completed"
    },
    "tags": []
   },
   "outputs": [
    {
     "data": {
      "text/html": [
       "<div>\n",
       "<style scoped>\n",
       "    .dataframe tbody tr th:only-of-type {\n",
       "        vertical-align: middle;\n",
       "    }\n",
       "\n",
       "    .dataframe tbody tr th {\n",
       "        vertical-align: top;\n",
       "    }\n",
       "\n",
       "    .dataframe thead th {\n",
       "        text-align: right;\n",
       "    }\n",
       "</style>\n",
       "<table border=\"1\" class=\"dataframe\">\n",
       "  <thead>\n",
       "    <tr style=\"text-align: right;\">\n",
       "      <th></th>\n",
       "      <th>Rank</th>\n",
       "      <th>Name</th>\n",
       "      <th>Platform</th>\n",
       "      <th>Year</th>\n",
       "      <th>Genre</th>\n",
       "      <th>Publisher</th>\n",
       "      <th>North_America_sales</th>\n",
       "      <th>Europe_Sales</th>\n",
       "      <th>Japan_sales</th>\n",
       "      <th>Other_Sales</th>\n",
       "      <th>Global_Sales</th>\n",
       "    </tr>\n",
       "  </thead>\n",
       "  <tbody>\n",
       "    <tr>\n",
       "      <th>33</th>\n",
       "      <td>34</td>\n",
       "      <td>Call of Duty: Black Ops 3</td>\n",
       "      <td>PS4</td>\n",
       "      <td>2015</td>\n",
       "      <td>Shooter</td>\n",
       "      <td>Activision</td>\n",
       "      <td>5.77</td>\n",
       "      <td>5.81</td>\n",
       "      <td>0.35</td>\n",
       "      <td>2.31</td>\n",
       "      <td>14.24</td>\n",
       "    </tr>\n",
       "    <tr>\n",
       "      <th>44</th>\n",
       "      <td>45</td>\n",
       "      <td>Grand Theft Auto V</td>\n",
       "      <td>PS4</td>\n",
       "      <td>2014</td>\n",
       "      <td>Action</td>\n",
       "      <td>Take-Two Interactive</td>\n",
       "      <td>3.80</td>\n",
       "      <td>5.81</td>\n",
       "      <td>0.36</td>\n",
       "      <td>2.02</td>\n",
       "      <td>11.98</td>\n",
       "    </tr>\n",
       "    <tr>\n",
       "      <th>77</th>\n",
       "      <td>78</td>\n",
       "      <td>FIFA 16</td>\n",
       "      <td>PS4</td>\n",
       "      <td>2015</td>\n",
       "      <td>Sports</td>\n",
       "      <td>Electronic Arts</td>\n",
       "      <td>1.11</td>\n",
       "      <td>6.06</td>\n",
       "      <td>0.06</td>\n",
       "      <td>1.26</td>\n",
       "      <td>8.49</td>\n",
       "    </tr>\n",
       "    <tr>\n",
       "      <th>92</th>\n",
       "      <td>93</td>\n",
       "      <td>Star Wars Battlefront (2015)</td>\n",
       "      <td>PS4</td>\n",
       "      <td>2015</td>\n",
       "      <td>Shooter</td>\n",
       "      <td>Electronic Arts</td>\n",
       "      <td>2.93</td>\n",
       "      <td>3.29</td>\n",
       "      <td>0.22</td>\n",
       "      <td>1.23</td>\n",
       "      <td>7.67</td>\n",
       "    </tr>\n",
       "    <tr>\n",
       "      <th>93</th>\n",
       "      <td>94</td>\n",
       "      <td>Call of Duty: Advanced Warfare</td>\n",
       "      <td>PS4</td>\n",
       "      <td>2014</td>\n",
       "      <td>Shooter</td>\n",
       "      <td>Activision</td>\n",
       "      <td>2.80</td>\n",
       "      <td>3.30</td>\n",
       "      <td>0.14</td>\n",
       "      <td>1.37</td>\n",
       "      <td>7.60</td>\n",
       "    </tr>\n",
       "    <tr>\n",
       "      <th>...</th>\n",
       "      <td>...</td>\n",
       "      <td>...</td>\n",
       "      <td>...</td>\n",
       "      <td>...</td>\n",
       "      <td>...</td>\n",
       "      <td>...</td>\n",
       "      <td>...</td>\n",
       "      <td>...</td>\n",
       "      <td>...</td>\n",
       "      <td>...</td>\n",
       "      <td>...</td>\n",
       "    </tr>\n",
       "    <tr>\n",
       "      <th>16136</th>\n",
       "      <td>16139</td>\n",
       "      <td>Dragon's Dogma Online: Season 2</td>\n",
       "      <td>PS4</td>\n",
       "      <td>2016</td>\n",
       "      <td>Action</td>\n",
       "      <td>Capcom</td>\n",
       "      <td>0.00</td>\n",
       "      <td>0.00</td>\n",
       "      <td>0.01</td>\n",
       "      <td>0.00</td>\n",
       "      <td>0.01</td>\n",
       "    </tr>\n",
       "    <tr>\n",
       "      <th>16095</th>\n",
       "      <td>16098</td>\n",
       "      <td>Resident Evil 5 HD</td>\n",
       "      <td>PS4</td>\n",
       "      <td>2016</td>\n",
       "      <td>Action</td>\n",
       "      <td>Capcom</td>\n",
       "      <td>0.01</td>\n",
       "      <td>0.00</td>\n",
       "      <td>0.00</td>\n",
       "      <td>0.00</td>\n",
       "      <td>0.01</td>\n",
       "    </tr>\n",
       "    <tr>\n",
       "      <th>16048</th>\n",
       "      <td>16051</td>\n",
       "      <td>God Eater Off Shot:Shiou-hen Twin Pack &amp; Anima...</td>\n",
       "      <td>PS4</td>\n",
       "      <td>2016</td>\n",
       "      <td>Misc</td>\n",
       "      <td>Namco Bandai Games</td>\n",
       "      <td>0.00</td>\n",
       "      <td>0.00</td>\n",
       "      <td>0.01</td>\n",
       "      <td>0.00</td>\n",
       "      <td>0.01</td>\n",
       "    </tr>\n",
       "    <tr>\n",
       "      <th>16043</th>\n",
       "      <td>16046</td>\n",
       "      <td>Raven's Cry</td>\n",
       "      <td>PS4</td>\n",
       "      <td>2015</td>\n",
       "      <td>Role-Playing</td>\n",
       "      <td>TopWare Interactive</td>\n",
       "      <td>0.00</td>\n",
       "      <td>0.01</td>\n",
       "      <td>0.00</td>\n",
       "      <td>0.00</td>\n",
       "      <td>0.01</td>\n",
       "    </tr>\n",
       "    <tr>\n",
       "      <th>16570</th>\n",
       "      <td>16573</td>\n",
       "      <td>Farming 2017 - The Simulation</td>\n",
       "      <td>PS4</td>\n",
       "      <td>2016</td>\n",
       "      <td>Simulation</td>\n",
       "      <td>UIG Entertainment</td>\n",
       "      <td>0.00</td>\n",
       "      <td>0.01</td>\n",
       "      <td>0.00</td>\n",
       "      <td>0.00</td>\n",
       "      <td>0.01</td>\n",
       "    </tr>\n",
       "  </tbody>\n",
       "</table>\n",
       "<p>336 rows × 11 columns</p>\n",
       "</div>"
      ],
      "text/plain": [
       "        Rank                                               Name Platform  \\\n",
       "33        34                          Call of Duty: Black Ops 3      PS4   \n",
       "44        45                                 Grand Theft Auto V      PS4   \n",
       "77        78                                            FIFA 16      PS4   \n",
       "92        93                       Star Wars Battlefront (2015)      PS4   \n",
       "93        94                     Call of Duty: Advanced Warfare      PS4   \n",
       "...      ...                                                ...      ...   \n",
       "16136  16139                    Dragon's Dogma Online: Season 2      PS4   \n",
       "16095  16098                                 Resident Evil 5 HD      PS4   \n",
       "16048  16051  God Eater Off Shot:Shiou-hen Twin Pack & Anima...      PS4   \n",
       "16043  16046                                        Raven's Cry      PS4   \n",
       "16570  16573                      Farming 2017 - The Simulation      PS4   \n",
       "\n",
       "       Year         Genre             Publisher  North_America_sales  \\\n",
       "33     2015       Shooter            Activision                 5.77   \n",
       "44     2014        Action  Take-Two Interactive                 3.80   \n",
       "77     2015        Sports       Electronic Arts                 1.11   \n",
       "92     2015       Shooter       Electronic Arts                 2.93   \n",
       "93     2014       Shooter            Activision                 2.80   \n",
       "...     ...           ...                   ...                  ...   \n",
       "16136  2016        Action                Capcom                 0.00   \n",
       "16095  2016        Action                Capcom                 0.01   \n",
       "16048  2016          Misc    Namco Bandai Games                 0.00   \n",
       "16043  2015  Role-Playing   TopWare Interactive                 0.00   \n",
       "16570  2016    Simulation     UIG Entertainment                 0.00   \n",
       "\n",
       "       Europe_Sales  Japan_sales  Other_Sales  Global_Sales  \n",
       "33             5.81         0.35         2.31         14.24  \n",
       "44             5.81         0.36         2.02         11.98  \n",
       "77             6.06         0.06         1.26          8.49  \n",
       "92             3.29         0.22         1.23          7.67  \n",
       "93             3.30         0.14         1.37          7.60  \n",
       "...             ...          ...          ...           ...  \n",
       "16136          0.00         0.01         0.00          0.01  \n",
       "16095          0.00         0.00         0.00          0.01  \n",
       "16048          0.00         0.01         0.00          0.01  \n",
       "16043          0.01         0.00         0.00          0.01  \n",
       "16570          0.01         0.00         0.00          0.01  \n",
       "\n",
       "[336 rows x 11 columns]"
      ]
     },
     "execution_count": 33,
     "metadata": {},
     "output_type": "execute_result"
    }
   ],
   "source": [
    "ps4 = df.query(\"Platform == 'PS4'\")\n",
    "\n",
    "ps4.sort_values(by='Global_Sales', ascending=False)"
   ]
  },
  {
   "cell_type": "code",
   "execution_count": 34,
   "id": "c4460825",
   "metadata": {
    "execution": {
     "iopub.execute_input": "2022-04-24T12:15:45.708047Z",
     "iopub.status.busy": "2022-04-24T12:15:45.707323Z",
     "iopub.status.idle": "2022-04-24T12:15:46.317833Z",
     "shell.execute_reply": "2022-04-24T12:15:46.316792Z"
    },
    "papermill": {
     "duration": 0.679829,
     "end_time": "2022-04-24T12:15:46.320426",
     "exception": false,
     "start_time": "2022-04-24T12:15:45.640597",
     "status": "completed"
    },
    "tags": []
   },
   "outputs": [
    {
     "data": {
      "text/plain": [
       "<AxesSubplot:xlabel='Genre', ylabel='Global_Sales'>"
      ]
     },
     "execution_count": 34,
     "metadata": {},
     "output_type": "execute_result"
    },
    {
     "data": {
      "image/png": "[encoded data removed]",
      "text/plain": [
       "<Figure size 1080x576 with 1 Axes>"
      ]
     },
     "metadata": {
      "needs_background": "light"
     },
     "output_type": "display_data"
    }
   ],
   "source": [
    "plot.figure(figsize=(15,8))\n",
    "sns.barplot(data=ps4, x='Genre', y='Global_Sales')"
   ]
  },
  {
   "cell_type": "markdown",
   "id": "cc66414c",
   "metadata": {
    "papermill": {
     "duration": 0.065427,
     "end_time": "2022-04-24T12:15:46.452558",
     "exception": false,
     "start_time": "2022-04-24T12:15:46.387131",
     "status": "completed"
    },
    "tags": []
   },
   "source": [
    "## Conclusion \n",
    "\n",
    "Its interesting to note that in the top ranked games  some games are repeating throughout the list, but for different gaming platforms.  IE: GTA5 has been one of the best selling games accross 4 different platforms and different years.  <br>\n",
    "\n",
    "Then with the PS2, X360 and PS3 the other game genres were more in line with the shooter genre.  However, with the \"new\" generation consoles ie: PS and Xbone the gap in popularite between the Shooter genre and other genres have significantly increased.\n",
    "\n",
    "<br>\n",
    "\n",
    "The majority of the games with lower(better) rankings seem to fall in the early years of gaming or the golden years of gaming.  \n",
    "\n",
    "<br>\n",
    "\n",
    "For gaming sales the 2008/2009 year seems to be the best year in video game sales."
   ]
  },
  {
   "cell_type": "code",
   "execution_count": null,
   "id": "ccd70269",
   "metadata": {
    "papermill": {
     "duration": 0.067572,
     "end_time": "2022-04-24T12:15:46.586632",
     "exception": false,
     "start_time": "2022-04-24T12:15:46.519060",
     "status": "completed"
    },
    "tags": []
   },
   "outputs": [],
   "source": []
  }
 ],
 "metadata": {
  "kernelspec": {
   "display_name": "Python 3",
   "language": "python",
   "name": "python3"
  },
  "language_info": {
   "codemirror_mode": {
    "name": "ipython",
    "version": 3
   },
   "file_extension": ".py",
   "mimetype": "text/x-python",
   "name": "python",
   "nbconvert_exporter": "python",
   "pygments_lexer": "ipython3",
   "version": "3.7.12"
  },
  "papermill": {
   "default_parameters": {},
   "duration": 28.031487,
   "end_time": "2022-04-24T12:15:47.480741",
   "environment_variables": {},
   "exception": null,
   "input_path": "__notebook__.ipynb",
   "output_path": "__notebook__.ipynb",
   "parameters": {},
   "start_time": "2022-04-24T12:15:19.449254",
   "version": "2.3.4"
  }
 },
 "nbformat": 4,
 "nbformat_minor": 5
}
